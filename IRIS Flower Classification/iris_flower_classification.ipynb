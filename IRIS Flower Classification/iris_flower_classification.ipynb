{
  "nbformat": 4,
  "nbformat_minor": 0,
  "metadata": {
    "colab": {
      "name": "iris-flower-classification.ipynb",
      "provenance": [],
      "collapsed_sections": [
        "K4OHqSaC8HX5",
        "Rfkg2UIr8LAy",
        "6I1PPtl88TPx"
      ]
    },
    "kernelspec": {
      "name": "python3",
      "display_name": "Python 3"
    },
    "language_info": {
      "name": "python"
    },
    "accelerator": "GPU"
  },
  "cells": [
    {
      "cell_type": "markdown",
      "source": [
        "## Import libraries"
      ],
      "metadata": {
        "id": "K4OHqSaC8HX5"
      }
    },
    {
      "cell_type": "code",
      "execution_count": 1,
      "metadata": {
        "id": "Div6leE6u1Of"
      },
      "outputs": [],
      "source": [
        "import matplotlib.pyplot as plt\n",
        "import pandas as pd\n",
        "import numpy as np\n",
        "import sklearn\n",
        "import seaborn as sn\n",
        "from sklearn import model_selection , svm , metrics , tree , neighbors"
      ]
    },
    {
      "cell_type": "markdown",
      "source": [
        "## Load dataset of Iris flowers"
      ],
      "metadata": {
        "id": "Rfkg2UIr8LAy"
      }
    },
    {
      "cell_type": "code",
      "source": [
        "data_set = pd.read_csv('IRIS.csv')\n",
        "data_set.head(5)"
      ],
      "metadata": {
        "colab": {
          "base_uri": "https://localhost:8080/",
          "height": 0
        },
        "id": "qTkbyXO3u41x",
        "outputId": "2327c1a4-87bc-4f57-c379-110191b01618"
      },
      "execution_count": 2,
      "outputs": [
        {
          "output_type": "execute_result",
          "data": {
            "text/plain": [
              "   sepal_length  sepal_width  petal_length  petal_width      species\n",
              "0           5.1          3.5           1.4          0.2  Iris-setosa\n",
              "1           4.9          3.0           1.4          0.2  Iris-setosa\n",
              "2           4.7          3.2           1.3          0.2  Iris-setosa\n",
              "3           4.6          3.1           1.5          0.2  Iris-setosa\n",
              "4           5.0          3.6           1.4          0.2  Iris-setosa"
            ],
            "text/html": [
              "\n",
              "  <div id=\"df-730c99df-9bf3-4fc6-bbbf-4f730c314d4c\">\n",
              "    <div class=\"colab-df-container\">\n",
              "      <div>\n",
              "<style scoped>\n",
              "    .dataframe tbody tr th:only-of-type {\n",
              "        vertical-align: middle;\n",
              "    }\n",
              "\n",
              "    .dataframe tbody tr th {\n",
              "        vertical-align: top;\n",
              "    }\n",
              "\n",
              "    .dataframe thead th {\n",
              "        text-align: right;\n",
              "    }\n",
              "</style>\n",
              "<table border=\"1\" class=\"dataframe\">\n",
              "  <thead>\n",
              "    <tr style=\"text-align: right;\">\n",
              "      <th></th>\n",
              "      <th>sepal_length</th>\n",
              "      <th>sepal_width</th>\n",
              "      <th>petal_length</th>\n",
              "      <th>petal_width</th>\n",
              "      <th>species</th>\n",
              "    </tr>\n",
              "  </thead>\n",
              "  <tbody>\n",
              "    <tr>\n",
              "      <th>0</th>\n",
              "      <td>5.1</td>\n",
              "      <td>3.5</td>\n",
              "      <td>1.4</td>\n",
              "      <td>0.2</td>\n",
              "      <td>Iris-setosa</td>\n",
              "    </tr>\n",
              "    <tr>\n",
              "      <th>1</th>\n",
              "      <td>4.9</td>\n",
              "      <td>3.0</td>\n",
              "      <td>1.4</td>\n",
              "      <td>0.2</td>\n",
              "      <td>Iris-setosa</td>\n",
              "    </tr>\n",
              "    <tr>\n",
              "      <th>2</th>\n",
              "      <td>4.7</td>\n",
              "      <td>3.2</td>\n",
              "      <td>1.3</td>\n",
              "      <td>0.2</td>\n",
              "      <td>Iris-setosa</td>\n",
              "    </tr>\n",
              "    <tr>\n",
              "      <th>3</th>\n",
              "      <td>4.6</td>\n",
              "      <td>3.1</td>\n",
              "      <td>1.5</td>\n",
              "      <td>0.2</td>\n",
              "      <td>Iris-setosa</td>\n",
              "    </tr>\n",
              "    <tr>\n",
              "      <th>4</th>\n",
              "      <td>5.0</td>\n",
              "      <td>3.6</td>\n",
              "      <td>1.4</td>\n",
              "      <td>0.2</td>\n",
              "      <td>Iris-setosa</td>\n",
              "    </tr>\n",
              "  </tbody>\n",
              "</table>\n",
              "</div>\n",
              "      <button class=\"colab-df-convert\" onclick=\"convertToInteractive('df-730c99df-9bf3-4fc6-bbbf-4f730c314d4c')\"\n",
              "              title=\"Convert this dataframe to an interactive table.\"\n",
              "              style=\"display:none;\">\n",
              "        \n",
              "  <svg xmlns=\"http://www.w3.org/2000/svg\" height=\"24px\"viewBox=\"0 0 24 24\"\n",
              "       width=\"24px\">\n",
              "    <path d=\"M0 0h24v24H0V0z\" fill=\"none\"/>\n",
              "    <path d=\"M18.56 5.44l.94 2.06.94-2.06 2.06-.94-2.06-.94-.94-2.06-.94 2.06-2.06.94zm-11 1L8.5 8.5l.94-2.06 2.06-.94-2.06-.94L8.5 2.5l-.94 2.06-2.06.94zm10 10l.94 2.06.94-2.06 2.06-.94-2.06-.94-.94-2.06-.94 2.06-2.06.94z\"/><path d=\"M17.41 7.96l-1.37-1.37c-.4-.4-.92-.59-1.43-.59-.52 0-1.04.2-1.43.59L10.3 9.45l-7.72 7.72c-.78.78-.78 2.05 0 2.83L4 21.41c.39.39.9.59 1.41.59.51 0 1.02-.2 1.41-.59l7.78-7.78 2.81-2.81c.8-.78.8-2.07 0-2.86zM5.41 20L4 18.59l7.72-7.72 1.47 1.35L5.41 20z\"/>\n",
              "  </svg>\n",
              "      </button>\n",
              "      \n",
              "  <style>\n",
              "    .colab-df-container {\n",
              "      display:flex;\n",
              "      flex-wrap:wrap;\n",
              "      gap: 12px;\n",
              "    }\n",
              "\n",
              "    .colab-df-convert {\n",
              "      background-color: #E8F0FE;\n",
              "      border: none;\n",
              "      border-radius: 50%;\n",
              "      cursor: pointer;\n",
              "      display: none;\n",
              "      fill: #1967D2;\n",
              "      height: 32px;\n",
              "      padding: 0 0 0 0;\n",
              "      width: 32px;\n",
              "    }\n",
              "\n",
              "    .colab-df-convert:hover {\n",
              "      background-color: #E2EBFA;\n",
              "      box-shadow: 0px 1px 2px rgba(60, 64, 67, 0.3), 0px 1px 3px 1px rgba(60, 64, 67, 0.15);\n",
              "      fill: #174EA6;\n",
              "    }\n",
              "\n",
              "    [theme=dark] .colab-df-convert {\n",
              "      background-color: #3B4455;\n",
              "      fill: #D2E3FC;\n",
              "    }\n",
              "\n",
              "    [theme=dark] .colab-df-convert:hover {\n",
              "      background-color: #434B5C;\n",
              "      box-shadow: 0px 1px 3px 1px rgba(0, 0, 0, 0.15);\n",
              "      filter: drop-shadow(0px 1px 2px rgba(0, 0, 0, 0.3));\n",
              "      fill: #FFFFFF;\n",
              "    }\n",
              "  </style>\n",
              "\n",
              "      <script>\n",
              "        const buttonEl =\n",
              "          document.querySelector('#df-730c99df-9bf3-4fc6-bbbf-4f730c314d4c button.colab-df-convert');\n",
              "        buttonEl.style.display =\n",
              "          google.colab.kernel.accessAllowed ? 'block' : 'none';\n",
              "\n",
              "        async function convertToInteractive(key) {\n",
              "          const element = document.querySelector('#df-730c99df-9bf3-4fc6-bbbf-4f730c314d4c');\n",
              "          const dataTable =\n",
              "            await google.colab.kernel.invokeFunction('convertToInteractive',\n",
              "                                                     [key], {});\n",
              "          if (!dataTable) return;\n",
              "\n",
              "          const docLinkHtml = 'Like what you see? Visit the ' +\n",
              "            '<a target=\"_blank\" href=https://colab.research.google.com/notebooks/data_table.ipynb>data table notebook</a>'\n",
              "            + ' to learn more about interactive tables.';\n",
              "          element.innerHTML = '';\n",
              "          dataTable['output_type'] = 'display_data';\n",
              "          await google.colab.output.renderOutput(dataTable, element);\n",
              "          const docLink = document.createElement('div');\n",
              "          docLink.innerHTML = docLinkHtml;\n",
              "          element.appendChild(docLink);\n",
              "        }\n",
              "      </script>\n",
              "    </div>\n",
              "  </div>\n",
              "  "
            ]
          },
          "metadata": {},
          "execution_count": 2
        }
      ]
    },
    {
      "cell_type": "code",
      "source": [
        "data_set.info()"
      ],
      "metadata": {
        "colab": {
          "base_uri": "https://localhost:8080/"
        },
        "id": "af20h9vg5tUC",
        "outputId": "f4894f38-e37b-4311-9ce6-09a067bc3ac7"
      },
      "execution_count": 3,
      "outputs": [
        {
          "output_type": "stream",
          "name": "stdout",
          "text": [
            "<class 'pandas.core.frame.DataFrame'>\n",
            "RangeIndex: 150 entries, 0 to 149\n",
            "Data columns (total 5 columns):\n",
            " #   Column        Non-Null Count  Dtype  \n",
            "---  ------        --------------  -----  \n",
            " 0   sepal_length  150 non-null    float64\n",
            " 1   sepal_width   150 non-null    float64\n",
            " 2   petal_length  150 non-null    float64\n",
            " 3   petal_width   150 non-null    float64\n",
            " 4   species       150 non-null    object \n",
            "dtypes: float64(4), object(1)\n",
            "memory usage: 6.0+ KB\n"
          ]
        }
      ]
    },
    {
      "cell_type": "code",
      "source": [
        "data_set.describe()"
      ],
      "metadata": {
        "colab": {
          "base_uri": "https://localhost:8080/",
          "height": 0
        },
        "id": "9uWuYDNp5zoI",
        "outputId": "456e54f9-1bf5-4f18-c867-b705b766c8e6"
      },
      "execution_count": 4,
      "outputs": [
        {
          "output_type": "execute_result",
          "data": {
            "text/plain": [
              "       sepal_length  sepal_width  petal_length  petal_width\n",
              "count    150.000000   150.000000    150.000000   150.000000\n",
              "mean       5.843333     3.054000      3.758667     1.198667\n",
              "std        0.828066     0.433594      1.764420     0.763161\n",
              "min        4.300000     2.000000      1.000000     0.100000\n",
              "25%        5.100000     2.800000      1.600000     0.300000\n",
              "50%        5.800000     3.000000      4.350000     1.300000\n",
              "75%        6.400000     3.300000      5.100000     1.800000\n",
              "max        7.900000     4.400000      6.900000     2.500000"
            ],
            "text/html": [
              "\n",
              "  <div id=\"df-3929cd7e-9282-4037-bb68-32ee4f1347b9\">\n",
              "    <div class=\"colab-df-container\">\n",
              "      <div>\n",
              "<style scoped>\n",
              "    .dataframe tbody tr th:only-of-type {\n",
              "        vertical-align: middle;\n",
              "    }\n",
              "\n",
              "    .dataframe tbody tr th {\n",
              "        vertical-align: top;\n",
              "    }\n",
              "\n",
              "    .dataframe thead th {\n",
              "        text-align: right;\n",
              "    }\n",
              "</style>\n",
              "<table border=\"1\" class=\"dataframe\">\n",
              "  <thead>\n",
              "    <tr style=\"text-align: right;\">\n",
              "      <th></th>\n",
              "      <th>sepal_length</th>\n",
              "      <th>sepal_width</th>\n",
              "      <th>petal_length</th>\n",
              "      <th>petal_width</th>\n",
              "    </tr>\n",
              "  </thead>\n",
              "  <tbody>\n",
              "    <tr>\n",
              "      <th>count</th>\n",
              "      <td>150.000000</td>\n",
              "      <td>150.000000</td>\n",
              "      <td>150.000000</td>\n",
              "      <td>150.000000</td>\n",
              "    </tr>\n",
              "    <tr>\n",
              "      <th>mean</th>\n",
              "      <td>5.843333</td>\n",
              "      <td>3.054000</td>\n",
              "      <td>3.758667</td>\n",
              "      <td>1.198667</td>\n",
              "    </tr>\n",
              "    <tr>\n",
              "      <th>std</th>\n",
              "      <td>0.828066</td>\n",
              "      <td>0.433594</td>\n",
              "      <td>1.764420</td>\n",
              "      <td>0.763161</td>\n",
              "    </tr>\n",
              "    <tr>\n",
              "      <th>min</th>\n",
              "      <td>4.300000</td>\n",
              "      <td>2.000000</td>\n",
              "      <td>1.000000</td>\n",
              "      <td>0.100000</td>\n",
              "    </tr>\n",
              "    <tr>\n",
              "      <th>25%</th>\n",
              "      <td>5.100000</td>\n",
              "      <td>2.800000</td>\n",
              "      <td>1.600000</td>\n",
              "      <td>0.300000</td>\n",
              "    </tr>\n",
              "    <tr>\n",
              "      <th>50%</th>\n",
              "      <td>5.800000</td>\n",
              "      <td>3.000000</td>\n",
              "      <td>4.350000</td>\n",
              "      <td>1.300000</td>\n",
              "    </tr>\n",
              "    <tr>\n",
              "      <th>75%</th>\n",
              "      <td>6.400000</td>\n",
              "      <td>3.300000</td>\n",
              "      <td>5.100000</td>\n",
              "      <td>1.800000</td>\n",
              "    </tr>\n",
              "    <tr>\n",
              "      <th>max</th>\n",
              "      <td>7.900000</td>\n",
              "      <td>4.400000</td>\n",
              "      <td>6.900000</td>\n",
              "      <td>2.500000</td>\n",
              "    </tr>\n",
              "  </tbody>\n",
              "</table>\n",
              "</div>\n",
              "      <button class=\"colab-df-convert\" onclick=\"convertToInteractive('df-3929cd7e-9282-4037-bb68-32ee4f1347b9')\"\n",
              "              title=\"Convert this dataframe to an interactive table.\"\n",
              "              style=\"display:none;\">\n",
              "        \n",
              "  <svg xmlns=\"http://www.w3.org/2000/svg\" height=\"24px\"viewBox=\"0 0 24 24\"\n",
              "       width=\"24px\">\n",
              "    <path d=\"M0 0h24v24H0V0z\" fill=\"none\"/>\n",
              "    <path d=\"M18.56 5.44l.94 2.06.94-2.06 2.06-.94-2.06-.94-.94-2.06-.94 2.06-2.06.94zm-11 1L8.5 8.5l.94-2.06 2.06-.94-2.06-.94L8.5 2.5l-.94 2.06-2.06.94zm10 10l.94 2.06.94-2.06 2.06-.94-2.06-.94-.94-2.06-.94 2.06-2.06.94z\"/><path d=\"M17.41 7.96l-1.37-1.37c-.4-.4-.92-.59-1.43-.59-.52 0-1.04.2-1.43.59L10.3 9.45l-7.72 7.72c-.78.78-.78 2.05 0 2.83L4 21.41c.39.39.9.59 1.41.59.51 0 1.02-.2 1.41-.59l7.78-7.78 2.81-2.81c.8-.78.8-2.07 0-2.86zM5.41 20L4 18.59l7.72-7.72 1.47 1.35L5.41 20z\"/>\n",
              "  </svg>\n",
              "      </button>\n",
              "      \n",
              "  <style>\n",
              "    .colab-df-container {\n",
              "      display:flex;\n",
              "      flex-wrap:wrap;\n",
              "      gap: 12px;\n",
              "    }\n",
              "\n",
              "    .colab-df-convert {\n",
              "      background-color: #E8F0FE;\n",
              "      border: none;\n",
              "      border-radius: 50%;\n",
              "      cursor: pointer;\n",
              "      display: none;\n",
              "      fill: #1967D2;\n",
              "      height: 32px;\n",
              "      padding: 0 0 0 0;\n",
              "      width: 32px;\n",
              "    }\n",
              "\n",
              "    .colab-df-convert:hover {\n",
              "      background-color: #E2EBFA;\n",
              "      box-shadow: 0px 1px 2px rgba(60, 64, 67, 0.3), 0px 1px 3px 1px rgba(60, 64, 67, 0.15);\n",
              "      fill: #174EA6;\n",
              "    }\n",
              "\n",
              "    [theme=dark] .colab-df-convert {\n",
              "      background-color: #3B4455;\n",
              "      fill: #D2E3FC;\n",
              "    }\n",
              "\n",
              "    [theme=dark] .colab-df-convert:hover {\n",
              "      background-color: #434B5C;\n",
              "      box-shadow: 0px 1px 3px 1px rgba(0, 0, 0, 0.15);\n",
              "      filter: drop-shadow(0px 1px 2px rgba(0, 0, 0, 0.3));\n",
              "      fill: #FFFFFF;\n",
              "    }\n",
              "  </style>\n",
              "\n",
              "      <script>\n",
              "        const buttonEl =\n",
              "          document.querySelector('#df-3929cd7e-9282-4037-bb68-32ee4f1347b9 button.colab-df-convert');\n",
              "        buttonEl.style.display =\n",
              "          google.colab.kernel.accessAllowed ? 'block' : 'none';\n",
              "\n",
              "        async function convertToInteractive(key) {\n",
              "          const element = document.querySelector('#df-3929cd7e-9282-4037-bb68-32ee4f1347b9');\n",
              "          const dataTable =\n",
              "            await google.colab.kernel.invokeFunction('convertToInteractive',\n",
              "                                                     [key], {});\n",
              "          if (!dataTable) return;\n",
              "\n",
              "          const docLinkHtml = 'Like what you see? Visit the ' +\n",
              "            '<a target=\"_blank\" href=https://colab.research.google.com/notebooks/data_table.ipynb>data table notebook</a>'\n",
              "            + ' to learn more about interactive tables.';\n",
              "          element.innerHTML = '';\n",
              "          dataTable['output_type'] = 'display_data';\n",
              "          await google.colab.output.renderOutput(dataTable, element);\n",
              "          const docLink = document.createElement('div');\n",
              "          docLink.innerHTML = docLinkHtml;\n",
              "          element.appendChild(docLink);\n",
              "        }\n",
              "      </script>\n",
              "    </div>\n",
              "  </div>\n",
              "  "
            ]
          },
          "metadata": {},
          "execution_count": 4
        }
      ]
    },
    {
      "cell_type": "code",
      "source": [
        "x = data_set.drop(columns=['species'])\n",
        "y = data_set['species']\n",
        "x,y"
      ],
      "metadata": {
        "colab": {
          "base_uri": "https://localhost:8080/"
        },
        "id": "E2AHbmu-Wir7",
        "outputId": "b2a8b099-86cc-4008-9e0d-b4fb08d40f08"
      },
      "execution_count": 5,
      "outputs": [
        {
          "output_type": "execute_result",
          "data": {
            "text/plain": [
              "(     sepal_length  sepal_width  petal_length  petal_width\n",
              " 0             5.1          3.5           1.4          0.2\n",
              " 1             4.9          3.0           1.4          0.2\n",
              " 2             4.7          3.2           1.3          0.2\n",
              " 3             4.6          3.1           1.5          0.2\n",
              " 4             5.0          3.6           1.4          0.2\n",
              " ..            ...          ...           ...          ...\n",
              " 145           6.7          3.0           5.2          2.3\n",
              " 146           6.3          2.5           5.0          1.9\n",
              " 147           6.5          3.0           5.2          2.0\n",
              " 148           6.2          3.4           5.4          2.3\n",
              " 149           5.9          3.0           5.1          1.8\n",
              " \n",
              " [150 rows x 4 columns], 0         Iris-setosa\n",
              " 1         Iris-setosa\n",
              " 2         Iris-setosa\n",
              " 3         Iris-setosa\n",
              " 4         Iris-setosa\n",
              "             ...      \n",
              " 145    Iris-virginica\n",
              " 146    Iris-virginica\n",
              " 147    Iris-virginica\n",
              " 148    Iris-virginica\n",
              " 149    Iris-virginica\n",
              " Name: species, Length: 150, dtype: object)"
            ]
          },
          "metadata": {},
          "execution_count": 5
        }
      ]
    },
    {
      "cell_type": "code",
      "source": [
        "sn.distplot(data_set['sepal_length'],label='Sepal Length',hist=False)\n",
        "sn.distplot(data_set['sepal_width'],label='Sepal Width',hist=False)\n",
        "sn.distplot(data_set['petal_length'],label='Petal Length',hist=False)\n",
        "sn.distplot(data_set['petal_width'],label='Petal Width',hist=False)\n",
        "plt.legend()\n",
        "plt.show()"
      ],
      "metadata": {
        "colab": {
          "base_uri": "https://localhost:8080/",
          "height": 0
        },
        "id": "-2evp1bFu44I",
        "outputId": "162e9cf8-2b13-4a4f-b58f-b72f3c73765a"
      },
      "execution_count": 6,
      "outputs": [
        {
          "output_type": "stream",
          "name": "stderr",
          "text": [
            "/usr/local/lib/python3.7/dist-packages/seaborn/distributions.py:2619: FutureWarning: `distplot` is a deprecated function and will be removed in a future version. Please adapt your code to use either `displot` (a figure-level function with similar flexibility) or `kdeplot` (an axes-level function for kernel density plots).\n",
            "  warnings.warn(msg, FutureWarning)\n",
            "/usr/local/lib/python3.7/dist-packages/seaborn/distributions.py:2619: FutureWarning: `distplot` is a deprecated function and will be removed in a future version. Please adapt your code to use either `displot` (a figure-level function with similar flexibility) or `kdeplot` (an axes-level function for kernel density plots).\n",
            "  warnings.warn(msg, FutureWarning)\n",
            "/usr/local/lib/python3.7/dist-packages/seaborn/distributions.py:2619: FutureWarning: `distplot` is a deprecated function and will be removed in a future version. Please adapt your code to use either `displot` (a figure-level function with similar flexibility) or `kdeplot` (an axes-level function for kernel density plots).\n",
            "  warnings.warn(msg, FutureWarning)\n",
            "/usr/local/lib/python3.7/dist-packages/seaborn/distributions.py:2619: FutureWarning: `distplot` is a deprecated function and will be removed in a future version. Please adapt your code to use either `displot` (a figure-level function with similar flexibility) or `kdeplot` (an axes-level function for kernel density plots).\n",
            "  warnings.warn(msg, FutureWarning)\n"
          ]
        },
        {
          "output_type": "display_data",
          "data": {
            "text/plain": [
              "<Figure size 432x288 with 1 Axes>"
            ],
            "image/png": "[encoded data removed]"
          },
          "metadata": {
            "needs_background": "light"
          }
        }
      ]
    },
    {
      "cell_type": "code",
      "source": [
        "data_set['species'].value_counts().plot(kind='pie',autopct='%0.2f%%',ylabel='',title='Species')"
      ],
      "metadata": {
        "colab": {
          "base_uri": "https://localhost:8080/",
          "height": 0
        },
        "id": "-ehzzmc1u4-7",
        "outputId": "c962acba-2d6a-42ad-d05e-cea988350a68"
      },
      "execution_count": 7,
      "outputs": [
        {
          "output_type": "execute_result",
          "data": {
            "text/plain": [
              "<matplotlib.axes._subplots.AxesSubplot at 0x7f0ae84fa790>"
            ]
          },
          "metadata": {},
          "execution_count": 7
        },
        {
          "output_type": "display_data",
          "data": {
            "text/plain": [
              "<Figure size 432x288 with 1 Axes>"
            ],
            "image/png": "[encoded data removed]"
          },
          "metadata": {}
        }
      ]
    },
    {
      "cell_type": "markdown",
      "source": [
        "## Data Cleaning"
      ],
      "metadata": {
        "id": "6I1PPtl88TPx"
      }
    },
    {
      "cell_type": "markdown",
      "source": [
        "##### check if there is null value in the attributes"
      ],
      "metadata": {
        "id": "DwazQ-arSZpU"
      }
    },
    {
      "cell_type": "code",
      "source": [
        "data_set.isnull().sum()"
      ],
      "metadata": {
        "colab": {
          "base_uri": "https://localhost:8080/"
        },
        "id": "YYbV7cvQu5BF",
        "outputId": "8f9687f6-f307-43fd-9706-69ed8e66bf3f"
      },
      "execution_count": 8,
      "outputs": [
        {
          "output_type": "execute_result",
          "data": {
            "text/plain": [
              "sepal_length    0\n",
              "sepal_width     0\n",
              "petal_length    0\n",
              "petal_width     0\n",
              "species         0\n",
              "dtype: int64"
            ]
          },
          "metadata": {},
          "execution_count": 8
        }
      ]
    },
    {
      "cell_type": "markdown",
      "source": [
        "##### remove duplicates from the dataframe"
      ],
      "metadata": {
        "id": "UCJaWP4xSTM6"
      }
    },
    {
      "cell_type": "code",
      "source": [
        "data_set.drop_duplicates(inplace=True)"
      ],
      "metadata": {
        "id": "Rak41fj757mw"
      },
      "execution_count": 9,
      "outputs": []
    },
    {
      "cell_type": "markdown",
      "source": [
        "##### check the number of duplicated rows"
      ],
      "metadata": {
        "id": "yqwa1ACOSggO"
      }
    },
    {
      "cell_type": "code",
      "source": [
        "len(data_set[data_set.duplicated()])"
      ],
      "metadata": {
        "colab": {
          "base_uri": "https://localhost:8080/"
        },
        "id": "i1fkEtocR8TQ",
        "outputId": "1cc15ee5-d1bd-46c1-f4cd-f2f1087fad10"
      },
      "execution_count": 10,
      "outputs": [
        {
          "output_type": "execute_result",
          "data": {
            "text/plain": [
              "0"
            ]
          },
          "metadata": {},
          "execution_count": 10
        }
      ]
    },
    {
      "cell_type": "markdown",
      "source": [
        "## Build the model"
      ],
      "metadata": {
        "id": "mFbF4kmCTI80"
      }
    },
    {
      "cell_type": "code",
      "source": [
        "tree_model = tree.DecisionTreeClassifier()"
      ],
      "metadata": {
        "id": "xQ4yjJUh57p7"
      },
      "execution_count": 11,
      "outputs": []
    },
    {
      "cell_type": "code",
      "source": [
        "params={\n",
        "    'criterion':['gini','entropy'],\n",
        "    'max_features':['auto','sqrt','log2'],\n",
        "}"
      ],
      "metadata": {
        "id": "Sn376Dbe57vp"
      },
      "execution_count": 12,
      "outputs": []
    },
    {
      "cell_type": "code",
      "source": [
        "scoring={\n",
        "    'accuracy':metrics.make_scorer(metrics.accuracy_score),\n",
        "}"
      ],
      "metadata": {
        "id": "Q09F9rkCu5Dz"
      },
      "execution_count": 13,
      "outputs": []
    },
    {
      "cell_type": "markdown",
      "source": [
        "## Choosing Hyperparameter"
      ],
      "metadata": {
        "id": "5N9HRmGXOazm"
      }
    },
    {
      "cell_type": "code",
      "source": [
        "Kfold = model_selection.StratifiedShuffleSplit()"
      ],
      "metadata": {
        "id": "l8rZUgnMu5Jo"
      },
      "execution_count": 14,
      "outputs": []
    },
    {
      "cell_type": "code",
      "source": [
        "grid_search = model_selection.GridSearchCV(tree_model,param_grid=params,scoring=scoring,refit='accuracy',verbose=2,cv=Kfold)"
      ],
      "metadata": {
        "id": "64kGB2XOUlIL"
      },
      "execution_count": 15,
      "outputs": []
    },
    {
      "cell_type": "code",
      "source": [
        "grid_search.fit(x,y)"
      ],
      "metadata": {
        "colab": {
          "base_uri": "https://localhost:8080/"
        },
        "id": "m7aJDzE-UlKW",
        "outputId": "a6c0ff5a-1fbf-44c4-83b6-8da47e9c1d18"
      },
      "execution_count": 16,
      "outputs": [
        {
          "output_type": "stream",
          "name": "stdout",
          "text": [
            "Fitting 10 folds for each of 6 candidates, totalling 60 fits\n",
            "[CV] END ..................criterion=gini, max_features=auto; total time=   0.0s\n",
            "[CV] END ..................criterion=gini, max_features=auto; total time=   0.0s\n",
            "[CV] END ..................criterion=gini, max_features=auto; total time=   0.0s\n",
            "[CV] END ..................criterion=gini, max_features=auto; total time=   0.0s\n",
            "[CV] END ..................criterion=gini, max_features=auto; total time=   0.0s\n",
            "[CV] END ..................criterion=gini, max_features=auto; total time=   0.0s\n",
            "[CV] END ..................criterion=gini, max_features=auto; total time=   0.0s\n",
            "[CV] END ..................criterion=gini, max_features=auto; total time=   0.0s\n",
            "[CV] END ..................criterion=gini, max_features=auto; total time=   0.0s\n",
            "[CV] END ..................criterion=gini, max_features=auto; total time=   0.0s\n",
            "[CV] END ..................criterion=gini, max_features=sqrt; total time=   0.0s\n",
            "[CV] END ..................criterion=gini, max_features=sqrt; total time=   0.0s\n",
            "[CV] END ..................criterion=gini, max_features=sqrt; total time=   0.0s\n",
            "[CV] END ..................criterion=gini, max_features=sqrt; total time=   0.0s\n",
            "[CV] END ..................criterion=gini, max_features=sqrt; total time=   0.0s\n",
            "[CV] END ..................criterion=gini, max_features=sqrt; total time=   0.0s\n",
            "[CV] END ..................criterion=gini, max_features=sqrt; total time=   0.0s\n",
            "[CV] END ..................criterion=gini, max_features=sqrt; total time=   0.0s\n",
            "[CV] END ..................criterion=gini, max_features=sqrt; total time=   0.0s\n",
            "[CV] END ..................criterion=gini, max_features=sqrt; total time=   0.0s\n",
            "[CV] END ..................criterion=gini, max_features=log2; total time=   0.0s\n",
            "[CV] END ..................criterion=gini, max_features=log2; total time=   0.0s\n",
            "[CV] END ..................criterion=gini, max_features=log2; total time=   0.0s\n",
            "[CV] END ..................criterion=gini, max_features=log2; total time=   0.0s\n",
            "[CV] END ..................criterion=gini, max_features=log2; total time=   0.0s\n",
            "[CV] END ..................criterion=gini, max_features=log2; total time=   0.0s\n",
            "[CV] END ..................criterion=gini, max_features=log2; total time=   0.0s\n",
            "[CV] END ..................criterion=gini, max_features=log2; total time=   0.0s\n",
            "[CV] END ..................criterion=gini, max_features=log2; total time=   0.0s\n",
            "[CV] END ..................criterion=gini, max_features=log2; total time=   0.0s\n",
            "[CV] END ...............criterion=entropy, max_features=auto; total time=   0.0s\n",
            "[CV] END ...............criterion=entropy, max_features=auto; total time=   0.0s\n",
            "[CV] END ...............criterion=entropy, max_features=auto; total time=   0.0s\n",
            "[CV] END ...............criterion=entropy, max_features=auto; total time=   0.0s\n",
            "[CV] END ...............criterion=entropy, max_features=auto; total time=   0.0s\n",
            "[CV] END ...............criterion=entropy, max_features=auto; total time=   0.0s\n",
            "[CV] END ...............criterion=entropy, max_features=auto; total time=   0.0s\n",
            "[CV] END ...............criterion=entropy, max_features=auto; total time=   0.0s\n",
            "[CV] END ...............criterion=entropy, max_features=auto; total time=   0.0s\n",
            "[CV] END ...............criterion=entropy, max_features=auto; total time=   0.0s\n",
            "[CV] END ...............criterion=entropy, max_features=sqrt; total time=   0.0s\n",
            "[CV] END ...............criterion=entropy, max_features=sqrt; total time=   0.0s\n",
            "[CV] END ...............criterion=entropy, max_features=sqrt; total time=   0.0s\n",
            "[CV] END ...............criterion=entropy, max_features=sqrt; total time=   0.0s\n",
            "[CV] END ...............criterion=entropy, max_features=sqrt; total time=   0.0s\n",
            "[CV] END ...............criterion=entropy, max_features=sqrt; total time=   0.0s\n",
            "[CV] END ...............criterion=entropy, max_features=sqrt; total time=   0.0s\n",
            "[CV] END ...............criterion=entropy, max_features=sqrt; total time=   0.0s\n",
            "[CV] END ...............criterion=entropy, max_features=sqrt; total time=   0.0s\n",
            "[CV] END ...............criterion=entropy, max_features=sqrt; total time=   0.0s\n",
            "[CV] END ...............criterion=entropy, max_features=log2; total time=   0.0s\n",
            "[CV] END ...............criterion=entropy, max_features=log2; total time=   0.0s\n",
            "[CV] END ...............criterion=entropy, max_features=log2; total time=   0.0s\n",
            "[CV] END ...............criterion=entropy, max_features=log2; total time=   0.0s\n",
            "[CV] END ...............criterion=entropy, max_features=log2; total time=   0.0s\n",
            "[CV] END ...............criterion=entropy, max_features=log2; total time=   0.0s\n",
            "[CV] END ...............criterion=entropy, max_features=log2; total time=   0.0s\n",
            "[CV] END ...............criterion=entropy, max_features=log2; total time=   0.0s\n",
            "[CV] END ...............criterion=entropy, max_features=log2; total time=   0.0s\n",
            "[CV] END ...............criterion=entropy, max_features=log2; total time=   0.0s\n"
          ]
        },
        {
          "output_type": "execute_result",
          "data": {
            "text/plain": [
              "GridSearchCV(cv=StratifiedShuffleSplit(n_splits=10, random_state=None, test_size=None,\n",
              "            train_size=None),\n",
              "             estimator=DecisionTreeClassifier(),\n",
              "             param_grid={'criterion': ['gini', 'entropy'],\n",
              "                         'max_features': ['auto', 'sqrt', 'log2']},\n",
              "             refit='accuracy',\n",
              "             scoring={'accuracy': make_scorer(accuracy_score)}, verbose=2)"
            ]
          },
          "metadata": {},
          "execution_count": 16
        }
      ]
    },
    {
      "cell_type": "code",
      "source": [
        "print('best hyperpara',grid_search.best_params_)\n",
        "print('best score',grid_search.best_score_)"
      ],
      "metadata": {
        "colab": {
          "base_uri": "https://localhost:8080/"
        },
        "id": "ulmej6ppUlOE",
        "outputId": "0a81b614-1991-4d49-db90-8182b6ac7e98"
      },
      "execution_count": 18,
      "outputs": [
        {
          "output_type": "stream",
          "name": "stdout",
          "text": [
            "best hyperpara {'criterion': 'gini', 'max_features': 'sqrt'}\n",
            "best score 0.9533333333333334\n"
          ]
        }
      ]
    },
    {
      "cell_type": "code",
      "source": [
        "best_estimator = grid_search.best_estimator_\n",
        "best_estimator"
      ],
      "metadata": {
        "colab": {
          "base_uri": "https://localhost:8080/"
        },
        "id": "LRlQC-lNYEZR",
        "outputId": "37d873fb-7cfd-414d-9afc-d88940a9cc6a"
      },
      "execution_count": 23,
      "outputs": [
        {
          "output_type": "execute_result",
          "data": {
            "text/plain": [
              "DecisionTreeClassifier(max_features='sqrt')"
            ]
          },
          "metadata": {},
          "execution_count": 23
        }
      ]
    },
    {
      "cell_type": "markdown",
      "source": [
        "## Accuracy of the model"
      ],
      "metadata": {
        "id": "_A6QwUZwOgd3"
      }
    },
    {
      "cell_type": "code",
      "source": [
        "stratified_shuffled_k_fold=model_selection.StratifiedShuffleSplit(n_splits=5,random_state=42)\n",
        "scores=[]\n",
        "for train_indices,test_indices in stratified_shuffled_k_fold.split(x,y):\n",
        "    x_train,x_test = x.iloc[train_indices],x.iloc[test_indices]\n",
        "    y_train,y_test = y.iloc[train_indices],y.iloc[test_indices]\n",
        "\n",
        "    best_estimator.fit(x_train,y_train)\n",
        "\n",
        "    y_pred = best_estimator.predict(x_test)\n",
        "\n",
        "    acc=metrics.accuracy_score(y_test,y_pred)\n",
        "\n",
        "print('The Accuracy of the model : ',acc)\n",
        "print('\\n')\n",
        "print('-'*43)\n",
        "print('\\n')\n",
        "\n",
        "for train_indices,test_indices in stratified_shuffled_k_fold.split(x,y):\n",
        "    x_train,x_test = x.iloc[train_indices],x.iloc[test_indices]\n",
        "    y_train,y_test = y.iloc[train_indices],y.iloc[test_indices]\n",
        "\n",
        "    best_estimator.fit(x_train,y_train)\n",
        "\n",
        "    y_pred=best_estimator.predict(x_test)\n",
        "\n",
        "    acc=metrics.accuracy_score(y_test,y_pred)\n",
        "\n",
        "    acc=metrics.accuracy_score(y_test,y_pred)\n",
        "    precision=metrics.precision_score(y_test,y_pred,average='weighted')\n",
        "    recall=metrics.recall_score(y_test,y_pred,average='weighted')\n",
        "    f1=metrics.f1_score(y_test,y_pred,average='weighted')\n",
        "\n",
        "    scores_dict={'acc':acc,'precision':precision,'recall':recall,'f1':f1}\n",
        "    scores.append(scores_dict)\n",
        "\n",
        "scores_df=pd.DataFrame(scores)\n",
        "scores_df.describe()"
      ],
      "metadata": {
        "colab": {
          "base_uri": "https://localhost:8080/",
          "height": 404
        },
        "id": "aU9AqcPAYEcB",
        "outputId": "543df35f-92fd-42e1-eb0b-6bad8919a6e1"
      },
      "execution_count": 33,
      "outputs": [
        {
          "output_type": "stream",
          "name": "stdout",
          "text": [
            "The Accuracy of the model :  1.0\n",
            "\n",
            "\n",
            "-------------------------------------------\n",
            "\n",
            "\n"
          ]
        },
        {
          "output_type": "execute_result",
          "data": {
            "text/plain": [
              "            acc  precision    recall        f1\n",
              "count  5.000000   5.000000  5.000000  5.000000\n",
              "mean   0.946667   0.951111  0.946667  0.946397\n",
              "std    0.055777   0.054772  0.055777  0.055859\n",
              "min    0.866667   0.866667  0.866667  0.866667\n",
              "25%    0.933333   0.944444  0.933333  0.932660\n",
              "50%    0.933333   0.944444  0.933333  0.932660\n",
              "75%    1.000000   1.000000  1.000000  1.000000\n",
              "max    1.000000   1.000000  1.000000  1.000000"
            ],
            "text/html": [
              "\n",
              "  <div id=\"df-bd25dceb-69e2-4cff-8ba8-01b25269f673\">\n",
              "    <div class=\"colab-df-container\">\n",
              "      <div>\n",
              "<style scoped>\n",
              "    .dataframe tbody tr th:only-of-type {\n",
              "        vertical-align: middle;\n",
              "    }\n",
              "\n",
              "    .dataframe tbody tr th {\n",
              "        vertical-align: top;\n",
              "    }\n",
              "\n",
              "    .dataframe thead th {\n",
              "        text-align: right;\n",
              "    }\n",
              "</style>\n",
              "<table border=\"1\" class=\"dataframe\">\n",
              "  <thead>\n",
              "    <tr style=\"text-align: right;\">\n",
              "      <th></th>\n",
              "      <th>acc</th>\n",
              "      <th>precision</th>\n",
              "      <th>recall</th>\n",
              "      <th>f1</th>\n",
              "    </tr>\n",
              "  </thead>\n",
              "  <tbody>\n",
              "    <tr>\n",
              "      <th>count</th>\n",
              "      <td>5.000000</td>\n",
              "      <td>5.000000</td>\n",
              "      <td>5.000000</td>\n",
              "      <td>5.000000</td>\n",
              "    </tr>\n",
              "    <tr>\n",
              "      <th>mean</th>\n",
              "      <td>0.946667</td>\n",
              "      <td>0.951111</td>\n",
              "      <td>0.946667</td>\n",
              "      <td>0.946397</td>\n",
              "    </tr>\n",
              "    <tr>\n",
              "      <th>std</th>\n",
              "      <td>0.055777</td>\n",
              "      <td>0.054772</td>\n",
              "      <td>0.055777</td>\n",
              "      <td>0.055859</td>\n",
              "    </tr>\n",
              "    <tr>\n",
              "      <th>min</th>\n",
              "      <td>0.866667</td>\n",
              "      <td>0.866667</td>\n",
              "      <td>0.866667</td>\n",
              "      <td>0.866667</td>\n",
              "    </tr>\n",
              "    <tr>\n",
              "      <th>25%</th>\n",
              "      <td>0.933333</td>\n",
              "      <td>0.944444</td>\n",
              "      <td>0.933333</td>\n",
              "      <td>0.932660</td>\n",
              "    </tr>\n",
              "    <tr>\n",
              "      <th>50%</th>\n",
              "      <td>0.933333</td>\n",
              "      <td>0.944444</td>\n",
              "      <td>0.933333</td>\n",
              "      <td>0.932660</td>\n",
              "    </tr>\n",
              "    <tr>\n",
              "      <th>75%</th>\n",
              "      <td>1.000000</td>\n",
              "      <td>1.000000</td>\n",
              "      <td>1.000000</td>\n",
              "      <td>1.000000</td>\n",
              "    </tr>\n",
              "    <tr>\n",
              "      <th>max</th>\n",
              "      <td>1.000000</td>\n",
              "      <td>1.000000</td>\n",
              "      <td>1.000000</td>\n",
              "      <td>1.000000</td>\n",
              "    </tr>\n",
              "  </tbody>\n",
              "</table>\n",
              "</div>\n",
              "      <button class=\"colab-df-convert\" onclick=\"convertToInteractive('df-bd25dceb-69e2-4cff-8ba8-01b25269f673')\"\n",
              "              title=\"Convert this dataframe to an interactive table.\"\n",
              "              style=\"display:none;\">\n",
              "        \n",
              "  <svg xmlns=\"http://www.w3.org/2000/svg\" height=\"24px\"viewBox=\"0 0 24 24\"\n",
              "       width=\"24px\">\n",
              "    <path d=\"M0 0h24v24H0V0z\" fill=\"none\"/>\n",
              "    <path d=\"M18.56 5.44l.94 2.06.94-2.06 2.06-.94-2.06-.94-.94-2.06-.94 2.06-2.06.94zm-11 1L8.5 8.5l.94-2.06 2.06-.94-2.06-.94L8.5 2.5l-.94 2.06-2.06.94zm10 10l.94 2.06.94-2.06 2.06-.94-2.06-.94-.94-2.06-.94 2.06-2.06.94z\"/><path d=\"M17.41 7.96l-1.37-1.37c-.4-.4-.92-.59-1.43-.59-.52 0-1.04.2-1.43.59L10.3 9.45l-7.72 7.72c-.78.78-.78 2.05 0 2.83L4 21.41c.39.39.9.59 1.41.59.51 0 1.02-.2 1.41-.59l7.78-7.78 2.81-2.81c.8-.78.8-2.07 0-2.86zM5.41 20L4 18.59l7.72-7.72 1.47 1.35L5.41 20z\"/>\n",
              "  </svg>\n",
              "      </button>\n",
              "      \n",
              "  <style>\n",
              "    .colab-df-container {\n",
              "      display:flex;\n",
              "      flex-wrap:wrap;\n",
              "      gap: 12px;\n",
              "    }\n",
              "\n",
              "    .colab-df-convert {\n",
              "      background-color: #E8F0FE;\n",
              "      border: none;\n",
              "      border-radius: 50%;\n",
              "      cursor: pointer;\n",
              "      display: none;\n",
              "      fill: #1967D2;\n",
              "      height: 32px;\n",
              "      padding: 0 0 0 0;\n",
              "      width: 32px;\n",
              "    }\n",
              "\n",
              "    .colab-df-convert:hover {\n",
              "      background-color: #E2EBFA;\n",
              "      box-shadow: 0px 1px 2px rgba(60, 64, 67, 0.3), 0px 1px 3px 1px rgba(60, 64, 67, 0.15);\n",
              "      fill: #174EA6;\n",
              "    }\n",
              "\n",
              "    [theme=dark] .colab-df-convert {\n",
              "      background-color: #3B4455;\n",
              "      fill: #D2E3FC;\n",
              "    }\n",
              "\n",
              "    [theme=dark] .colab-df-convert:hover {\n",
              "      background-color: #434B5C;\n",
              "      box-shadow: 0px 1px 3px 1px rgba(0, 0, 0, 0.15);\n",
              "      filter: drop-shadow(0px 1px 2px rgba(0, 0, 0, 0.3));\n",
              "      fill: #FFFFFF;\n",
              "    }\n",
              "  </style>\n",
              "\n",
              "      <script>\n",
              "        const buttonEl =\n",
              "          document.querySelector('#df-bd25dceb-69e2-4cff-8ba8-01b25269f673 button.colab-df-convert');\n",
              "        buttonEl.style.display =\n",
              "          google.colab.kernel.accessAllowed ? 'block' : 'none';\n",
              "\n",
              "        async function convertToInteractive(key) {\n",
              "          const element = document.querySelector('#df-bd25dceb-69e2-4cff-8ba8-01b25269f673');\n",
              "          const dataTable =\n",
              "            await google.colab.kernel.invokeFunction('convertToInteractive',\n",
              "                                                     [key], {});\n",
              "          if (!dataTable) return;\n",
              "\n",
              "          const docLinkHtml = 'Like what you see? Visit the ' +\n",
              "            '<a target=\"_blank\" href=https://colab.research.google.com/notebooks/data_table.ipynb>data table notebook</a>'\n",
              "            + ' to learn more about interactive tables.';\n",
              "          element.innerHTML = '';\n",
              "          dataTable['output_type'] = 'display_data';\n",
              "          await google.colab.output.renderOutput(dataTable, element);\n",
              "          const docLink = document.createElement('div');\n",
              "          docLink.innerHTML = docLinkHtml;\n",
              "          element.appendChild(docLink);\n",
              "        }\n",
              "      </script>\n",
              "    </div>\n",
              "  </div>\n",
              "  "
            ]
          },
          "metadata": {},
          "execution_count": 33
        }
      ]
    },
    {
      "cell_type": "markdown",
      "source": [
        "## Show the tree"
      ],
      "metadata": {
        "id": "ApacAFjYP4i0"
      }
    },
    {
      "cell_type": "code",
      "source": [
        "plt.figure(figsize=(10, 10), dpi=80)\n",
        "tree.plot_tree(best_estimator)"
      ],
      "metadata": {
        "colab": {
          "base_uri": "https://localhost:8080/",
          "height": 1000
        },
        "id": "REOAA3wGPYkq",
        "outputId": "cb4d8b50-f095-4c44-a2b7-e998d4598b89"
      },
      "execution_count": 37,
      "outputs": [
        {
          "output_type": "execute_result",
          "data": {
            "text/plain": [
              "[Text(0.3858695652173913, 0.9285714285714286, 'X[0] <= 5.45\\ngini = 0.667\\nsamples = 135\\nvalue = [45, 45, 45]'),\n",
              " Text(0.08695652173913043, 0.7857142857142857, 'X[2] <= 2.45\\ngini = 0.25\\nsamples = 49\\nvalue = [42, 6, 1]'),\n",
              " Text(0.043478260869565216, 0.6428571428571429, 'gini = 0.0\\nsamples = 42\\nvalue = [42, 0, 0]'),\n",
              " Text(0.13043478260869565, 0.6428571428571429, 'X[2] <= 4.2\\ngini = 0.245\\nsamples = 7\\nvalue = [0, 6, 1]'),\n",
              " Text(0.08695652173913043, 0.5, 'gini = 0.0\\nsamples = 5\\nvalue = [0, 5, 0]'),\n",
              " Text(0.17391304347826086, 0.5, 'X[1] <= 2.75\\ngini = 0.5\\nsamples = 2\\nvalue = [0, 1, 1]'),\n",
              " Text(0.13043478260869565, 0.35714285714285715, 'gini = 0.0\\nsamples = 1\\nvalue = [0, 0, 1]'),\n",
              " Text(0.21739130434782608, 0.35714285714285715, 'gini = 0.0\\nsamples = 1\\nvalue = [0, 1, 0]'),\n",
              " Text(0.6847826086956522, 0.7857142857142857, 'X[0] <= 6.15\\ngini = 0.531\\nsamples = 86\\nvalue = [3, 39, 44]'),\n",
              " Text(0.45652173913043476, 0.6428571428571429, 'X[2] <= 4.75\\ngini = 0.478\\nsamples = 37\\nvalue = [3, 25, 9]'),\n",
              " Text(0.34782608695652173, 0.5, 'X[1] <= 3.45\\ngini = 0.204\\nsamples = 26\\nvalue = [3, 23, 0]'),\n",
              " Text(0.30434782608695654, 0.35714285714285715, 'gini = 0.0\\nsamples = 23\\nvalue = [0, 23, 0]'),\n",
              " Text(0.391304347826087, 0.35714285714285715, 'gini = 0.0\\nsamples = 3\\nvalue = [3, 0, 0]'),\n",
              " Text(0.5652173913043478, 0.5, 'X[2] <= 4.85\\ngini = 0.298\\nsamples = 11\\nvalue = [0, 2, 9]'),\n",
              " Text(0.4782608695652174, 0.35714285714285715, 'X[1] <= 3.1\\ngini = 0.5\\nsamples = 2\\nvalue = [0, 1, 1]'),\n",
              " Text(0.43478260869565216, 0.21428571428571427, 'gini = 0.0\\nsamples = 1\\nvalue = [0, 0, 1]'),\n",
              " Text(0.5217391304347826, 0.21428571428571427, 'gini = 0.0\\nsamples = 1\\nvalue = [0, 1, 0]'),\n",
              " Text(0.6521739130434783, 0.35714285714285715, 'X[3] <= 1.7\\ngini = 0.198\\nsamples = 9\\nvalue = [0, 1, 8]'),\n",
              " Text(0.6086956521739131, 0.21428571428571427, 'X[3] <= 1.55\\ngini = 0.444\\nsamples = 3\\nvalue = [0, 1, 2]'),\n",
              " Text(0.5652173913043478, 0.07142857142857142, 'gini = 0.0\\nsamples = 2\\nvalue = [0, 0, 2]'),\n",
              " Text(0.6521739130434783, 0.07142857142857142, 'gini = 0.0\\nsamples = 1\\nvalue = [0, 1, 0]'),\n",
              " Text(0.6956521739130435, 0.21428571428571427, 'gini = 0.0\\nsamples = 6\\nvalue = [0, 0, 6]'),\n",
              " Text(0.9130434782608695, 0.6428571428571429, 'X[3] <= 1.75\\ngini = 0.408\\nsamples = 49\\nvalue = [0, 14, 35]'),\n",
              " Text(0.8695652173913043, 0.5, 'X[0] <= 7.1\\ngini = 0.219\\nsamples = 16\\nvalue = [0, 14, 2]'),\n",
              " Text(0.8260869565217391, 0.35714285714285715, 'X[2] <= 5.05\\ngini = 0.124\\nsamples = 15\\nvalue = [0, 14, 1]'),\n",
              " Text(0.782608695652174, 0.21428571428571427, 'gini = 0.0\\nsamples = 14\\nvalue = [0, 14, 0]'),\n",
              " Text(0.8695652173913043, 0.21428571428571427, 'gini = 0.0\\nsamples = 1\\nvalue = [0, 0, 1]'),\n",
              " Text(0.9130434782608695, 0.35714285714285715, 'gini = 0.0\\nsamples = 1\\nvalue = [0, 0, 1]'),\n",
              " Text(0.9565217391304348, 0.5, 'gini = 0.0\\nsamples = 33\\nvalue = [0, 0, 33]')]"
            ]
          },
          "metadata": {},
          "execution_count": 37
        },
        {
          "output_type": "display_data",
          "data": {
            "text/plain": [
              "<Figure size 800x800 with 1 Axes>"
            ],
            "image/png": "[encoded data removed]"
          },
          "metadata": {
            "needs_background": "light"
          }
        }
      ]
    }
  ]
}