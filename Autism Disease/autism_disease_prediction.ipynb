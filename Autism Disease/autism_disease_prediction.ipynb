{
  "cells": [
    {
      "cell_type": "markdown",
      "metadata": {
        "id": "95VI0tpmH52_"
      },
      "source": [
        "## Import libraries"
      ]
    },
    {
      "cell_type": "code",
      "execution_count": 2,
      "metadata": {
        "execution": {
          "iopub.execute_input": "2022-06-22T14:18:08.015906Z",
          "iopub.status.busy": "2022-06-22T14:18:08.015343Z",
          "iopub.status.idle": "2022-06-22T14:18:08.020069Z",
          "shell.execute_reply": "2022-06-22T14:18:08.019276Z",
          "shell.execute_reply.started": "2022-06-22T14:18:08.015871Z"
        },
        "id": "hsHy_bhxH53E",
        "trusted": true
      },
      "outputs": [],
      "source": [
        "import numpy as np\n",
        "import pandas as pd\n",
        "import matplotlib.pyplot as plt\n",
        "import sklearn\n",
        "from sklearn.linear_model import LogisticRegression"
      ]
    },
    {
      "cell_type": "markdown",
      "metadata": {
        "id": "C1UPOrtJH53G"
      },
      "source": [
        "## Load Dataset"
      ]
    },
    {
      "cell_type": "code",
      "execution_count": 3,
      "metadata": {
        "execution": {
          "iopub.execute_input": "2022-06-22T14:18:10.128862Z",
          "iopub.status.busy": "2022-06-22T14:18:10.12829Z",
          "iopub.status.idle": "2022-06-22T14:18:10.146898Z",
          "shell.execute_reply": "2022-06-22T14:18:10.145964Z",
          "shell.execute_reply.started": "2022-06-22T14:18:10.128815Z"
        },
        "id": "efytCZSsH53H",
        "trusted": true
      },
      "outputs": [],
      "source": [
        "training_dataset = pd.read_csv('/dataset/train.csv')\n",
        "testing_dataset = pd.read_csv('/dataset/test.csv')"
      ]
    },
    {
      "cell_type": "code",
      "execution_count": 4,
      "metadata": {
        "colab": {
          "base_uri": "https://localhost:8080/"
        },
        "execution": {
          "iopub.execute_input": "2022-06-22T14:18:12.549738Z",
          "iopub.status.busy": "2022-06-22T14:18:12.548339Z",
          "iopub.status.idle": "2022-06-22T14:18:12.564004Z",
          "shell.execute_reply": "2022-06-22T14:18:12.562921Z",
          "shell.execute_reply.started": "2022-06-22T14:18:12.549691Z"
        },
        "id": "5SRRvUxxH53I",
        "outputId": "2b67e272-94c6-49ad-f8d9-8d2882666afd",
        "trusted": true
      },
      "outputs": [
        {
          "name": "stdout",
          "output_type": "stream",
          "text": [
            "<class 'pandas.core.frame.DataFrame'>\n",
            "RangeIndex: 800 entries, 0 to 799\n",
            "Data columns (total 22 columns):\n",
            " #   Column           Non-Null Count  Dtype  \n",
            "---  ------           --------------  -----  \n",
            " 0   ID               800 non-null    int64  \n",
            " 1   A1_Score         800 non-null    int64  \n",
            " 2   A2_Score         800 non-null    int64  \n",
            " 3   A3_Score         800 non-null    int64  \n",
            " 4   A4_Score         800 non-null    int64  \n",
            " 5   A5_Score         800 non-null    int64  \n",
            " 6   A6_Score         800 non-null    int64  \n",
            " 7   A7_Score         800 non-null    int64  \n",
            " 8   A8_Score         800 non-null    int64  \n",
            " 9   A9_Score         800 non-null    int64  \n",
            " 10  A10_Score        800 non-null    int64  \n",
            " 11  age              800 non-null    float64\n",
            " 12  gender           800 non-null    object \n",
            " 13  ethnicity        800 non-null    object \n",
            " 14  jaundice         800 non-null    object \n",
            " 15  austim           800 non-null    object \n",
            " 16  contry_of_res    800 non-null    object \n",
            " 17  used_app_before  800 non-null    object \n",
            " 18  result           800 non-null    float64\n",
            " 19  age_desc         800 non-null    object \n",
            " 20  relation         800 non-null    object \n",
            " 21  Class/ASD        800 non-null    int64  \n",
            "dtypes: float64(2), int64(12), object(8)\n",
            "memory usage: 137.6+ KB\n"
          ]
        }
      ],
      "source": [
        "training_dataset.info()"
      ]
    },
    {
      "cell_type": "code",
      "execution_count": 5,
      "metadata": {
        "colab": {
          "base_uri": "https://localhost:8080/"
        },
        "execution": {
          "iopub.execute_input": "2022-06-22T14:18:15.283331Z",
          "iopub.status.busy": "2022-06-22T14:18:15.282775Z",
          "iopub.status.idle": "2022-06-22T14:18:15.296039Z",
          "shell.execute_reply": "2022-06-22T14:18:15.29536Z",
          "shell.execute_reply.started": "2022-06-22T14:18:15.283297Z"
        },
        "id": "0dGng-v0H53I",
        "outputId": "8ab82ab8-e91e-48db-a4b5-0620cb50be19",
        "trusted": true
      },
      "outputs": [
        {
          "name": "stdout",
          "output_type": "stream",
          "text": [
            "<class 'pandas.core.frame.DataFrame'>\n",
            "RangeIndex: 200 entries, 0 to 199\n",
            "Data columns (total 21 columns):\n",
            " #   Column           Non-Null Count  Dtype  \n",
            "---  ------           --------------  -----  \n",
            " 0   ID               200 non-null    int64  \n",
            " 1   A1_Score         200 non-null    int64  \n",
            " 2   A2_Score         200 non-null    int64  \n",
            " 3   A3_Score         200 non-null    int64  \n",
            " 4   A4_Score         200 non-null    int64  \n",
            " 5   A5_Score         200 non-null    int64  \n",
            " 6   A6_Score         200 non-null    int64  \n",
            " 7   A7_Score         200 non-null    int64  \n",
            " 8   A8_Score         200 non-null    int64  \n",
            " 9   A9_Score         200 non-null    int64  \n",
            " 10  A10_Score        200 non-null    int64  \n",
            " 11  age              200 non-null    float64\n",
            " 12  gender           200 non-null    object \n",
            " 13  ethnicity        200 non-null    object \n",
            " 14  jaundice         200 non-null    object \n",
            " 15  austim           200 non-null    object \n",
            " 16  contry_of_res    200 non-null    object \n",
            " 17  used_app_before  200 non-null    object \n",
            " 18  result           200 non-null    float64\n",
            " 19  age_desc         200 non-null    object \n",
            " 20  relation         200 non-null    object \n",
            "dtypes: float64(2), int64(11), object(8)\n",
            "memory usage: 32.9+ KB\n"
          ]
        }
      ],
      "source": [
        "testing_dataset.info()"
      ]
    },
    {
      "cell_type": "code",
      "execution_count": 6,
      "metadata": {
        "colab": {
          "base_uri": "https://localhost:8080/",
          "height": 386
        },
        "execution": {
          "iopub.execute_input": "2022-06-22T14:18:17.645168Z",
          "iopub.status.busy": "2022-06-22T14:18:17.644734Z",
          "iopub.status.idle": "2022-06-22T14:18:17.671003Z",
          "shell.execute_reply": "2022-06-22T14:18:17.66954Z",
          "shell.execute_reply.started": "2022-06-22T14:18:17.645129Z"
        },
        "id": "oajzAcGeH53J",
        "outputId": "1e2e2984-75a6-413c-f542-8108f09ff4f7",
        "trusted": true
      },
      "outputs": [
        {
          "data": {
            "text/html": [
              "\n",
              "  <div id=\"df-135fdf13-ebe3-4376-ba66-7112ea39cc1e\">\n",
              "    <div class=\"colab-df-container\">\n",
              "      <div>\n",
              "<style scoped>\n",
              "    .dataframe tbody tr th:only-of-type {\n",
              "        vertical-align: middle;\n",
              "    }\n",
              "\n",
              "    .dataframe tbody tr th {\n",
              "        vertical-align: top;\n",
              "    }\n",
              "\n",
              "    .dataframe thead th {\n",
              "        text-align: right;\n",
              "    }\n",
              "</style>\n",
              "<table border=\"1\" class=\"dataframe\">\n",
              "  <thead>\n",
              "    <tr style=\"text-align: right;\">\n",
              "      <th></th>\n",
              "      <th>ID</th>\n",
              "      <th>A1_Score</th>\n",
              "      <th>A2_Score</th>\n",
              "      <th>A3_Score</th>\n",
              "      <th>A4_Score</th>\n",
              "      <th>A5_Score</th>\n",
              "      <th>A6_Score</th>\n",
              "      <th>A7_Score</th>\n",
              "      <th>A8_Score</th>\n",
              "      <th>A9_Score</th>\n",
              "      <th>...</th>\n",
              "      <th>gender</th>\n",
              "      <th>ethnicity</th>\n",
              "      <th>jaundice</th>\n",
              "      <th>austim</th>\n",
              "      <th>contry_of_res</th>\n",
              "      <th>used_app_before</th>\n",
              "      <th>result</th>\n",
              "      <th>age_desc</th>\n",
              "      <th>relation</th>\n",
              "      <th>Class/ASD</th>\n",
              "    </tr>\n",
              "  </thead>\n",
              "  <tbody>\n",
              "    <tr>\n",
              "      <th>0</th>\n",
              "      <td>1</td>\n",
              "      <td>1</td>\n",
              "      <td>0</td>\n",
              "      <td>1</td>\n",
              "      <td>0</td>\n",
              "      <td>1</td>\n",
              "      <td>0</td>\n",
              "      <td>1</td>\n",
              "      <td>0</td>\n",
              "      <td>1</td>\n",
              "      <td>...</td>\n",
              "      <td>f</td>\n",
              "      <td>?</td>\n",
              "      <td>no</td>\n",
              "      <td>no</td>\n",
              "      <td>Austria</td>\n",
              "      <td>no</td>\n",
              "      <td>6.351166</td>\n",
              "      <td>18 and more</td>\n",
              "      <td>Self</td>\n",
              "      <td>0</td>\n",
              "    </tr>\n",
              "    <tr>\n",
              "      <th>1</th>\n",
              "      <td>2</td>\n",
              "      <td>0</td>\n",
              "      <td>0</td>\n",
              "      <td>0</td>\n",
              "      <td>0</td>\n",
              "      <td>0</td>\n",
              "      <td>0</td>\n",
              "      <td>0</td>\n",
              "      <td>0</td>\n",
              "      <td>0</td>\n",
              "      <td>...</td>\n",
              "      <td>m</td>\n",
              "      <td>?</td>\n",
              "      <td>no</td>\n",
              "      <td>no</td>\n",
              "      <td>India</td>\n",
              "      <td>no</td>\n",
              "      <td>2.255185</td>\n",
              "      <td>18 and more</td>\n",
              "      <td>Self</td>\n",
              "      <td>0</td>\n",
              "    </tr>\n",
              "    <tr>\n",
              "      <th>2</th>\n",
              "      <td>3</td>\n",
              "      <td>1</td>\n",
              "      <td>1</td>\n",
              "      <td>1</td>\n",
              "      <td>1</td>\n",
              "      <td>1</td>\n",
              "      <td>1</td>\n",
              "      <td>1</td>\n",
              "      <td>1</td>\n",
              "      <td>1</td>\n",
              "      <td>...</td>\n",
              "      <td>m</td>\n",
              "      <td>White-European</td>\n",
              "      <td>no</td>\n",
              "      <td>yes</td>\n",
              "      <td>United States</td>\n",
              "      <td>no</td>\n",
              "      <td>14.851484</td>\n",
              "      <td>18 and more</td>\n",
              "      <td>Self</td>\n",
              "      <td>1</td>\n",
              "    </tr>\n",
              "    <tr>\n",
              "      <th>3</th>\n",
              "      <td>4</td>\n",
              "      <td>0</td>\n",
              "      <td>0</td>\n",
              "      <td>0</td>\n",
              "      <td>0</td>\n",
              "      <td>0</td>\n",
              "      <td>0</td>\n",
              "      <td>0</td>\n",
              "      <td>0</td>\n",
              "      <td>0</td>\n",
              "      <td>...</td>\n",
              "      <td>f</td>\n",
              "      <td>?</td>\n",
              "      <td>no</td>\n",
              "      <td>no</td>\n",
              "      <td>United States</td>\n",
              "      <td>no</td>\n",
              "      <td>2.276617</td>\n",
              "      <td>18 and more</td>\n",
              "      <td>Self</td>\n",
              "      <td>0</td>\n",
              "    </tr>\n",
              "    <tr>\n",
              "      <th>4</th>\n",
              "      <td>5</td>\n",
              "      <td>0</td>\n",
              "      <td>0</td>\n",
              "      <td>0</td>\n",
              "      <td>0</td>\n",
              "      <td>0</td>\n",
              "      <td>0</td>\n",
              "      <td>0</td>\n",
              "      <td>0</td>\n",
              "      <td>0</td>\n",
              "      <td>...</td>\n",
              "      <td>m</td>\n",
              "      <td>?</td>\n",
              "      <td>no</td>\n",
              "      <td>no</td>\n",
              "      <td>South Africa</td>\n",
              "      <td>no</td>\n",
              "      <td>-4.777286</td>\n",
              "      <td>18 and more</td>\n",
              "      <td>Self</td>\n",
              "      <td>0</td>\n",
              "    </tr>\n",
              "  </tbody>\n",
              "</table>\n",
              "<p>5 rows × 22 columns</p>\n",
              "</div>\n",
              "      <button class=\"colab-df-convert\" onclick=\"convertToInteractive('df-135fdf13-ebe3-4376-ba66-7112ea39cc1e')\"\n",
              "              title=\"Convert this dataframe to an interactive table.\"\n",
              "              style=\"display:none;\">\n",
              "        \n",
              "  <svg xmlns=\"http://www.w3.org/2000/svg\" height=\"24px\"viewBox=\"0 0 24 24\"\n",
              "       width=\"24px\">\n",
              "    <path d=\"M0 0h24v24H0V0z\" fill=\"none\"/>\n",
              "    <path d=\"M18.56 5.44l.94 2.06.94-2.06 2.06-.94-2.06-.94-.94-2.06-.94 2.06-2.06.94zm-11 1L8.5 8.5l.94-2.06 2.06-.94-2.06-.94L8.5 2.5l-.94 2.06-2.06.94zm10 10l.94 2.06.94-2.06 2.06-.94-2.06-.94-.94-2.06-.94 2.06-2.06.94z\"/><path d=\"M17.41 7.96l-1.37-1.37c-.4-.4-.92-.59-1.43-.59-.52 0-1.04.2-1.43.59L10.3 9.45l-7.72 7.72c-.78.78-.78 2.05 0 2.83L4 21.41c.39.39.9.59 1.41.59.51 0 1.02-.2 1.41-.59l7.78-7.78 2.81-2.81c.8-.78.8-2.07 0-2.86zM5.41 20L4 18.59l7.72-7.72 1.47 1.35L5.41 20z\"/>\n",
              "  </svg>\n",
              "      </button>\n",
              "      \n",
              "  <style>\n",
              "    .colab-df-container {\n",
              "      display:flex;\n",
              "      flex-wrap:wrap;\n",
              "      gap: 12px;\n",
              "    }\n",
              "\n",
              "    .colab-df-convert {\n",
              "      background-color: #E8F0FE;\n",
              "      border: none;\n",
              "      border-radius: 50%;\n",
              "      cursor: pointer;\n",
              "      display: none;\n",
              "      fill: #1967D2;\n",
              "      height: 32px;\n",
              "      padding: 0 0 0 0;\n",
              "      width: 32px;\n",
              "    }\n",
              "\n",
              "    .colab-df-convert:hover {\n",
              "      background-color: #E2EBFA;\n",
              "      box-shadow: 0px 1px 2px rgba(60, 64, 67, 0.3), 0px 1px 3px 1px rgba(60, 64, 67, 0.15);\n",
              "      fill: #174EA6;\n",
              "    }\n",
              "\n",
              "    [theme=dark] .colab-df-convert {\n",
              "      background-color: #3B4455;\n",
              "      fill: #D2E3FC;\n",
              "    }\n",
              "\n",
              "    [theme=dark] .colab-df-convert:hover {\n",
              "      background-color: #434B5C;\n",
              "      box-shadow: 0px 1px 3px 1px rgba(0, 0, 0, 0.15);\n",
              "      filter: drop-shadow(0px 1px 2px rgba(0, 0, 0, 0.3));\n",
              "      fill: #FFFFFF;\n",
              "    }\n",
              "  </style>\n",
              "\n",
              "      <script>\n",
              "        const buttonEl =\n",
              "          document.querySelector('#df-135fdf13-ebe3-4376-ba66-7112ea39cc1e button.colab-df-convert');\n",
              "        buttonEl.style.display =\n",
              "          google.colab.kernel.accessAllowed ? 'block' : 'none';\n",
              "\n",
              "        async function convertToInteractive(key) {\n",
              "          const element = document.querySelector('#df-135fdf13-ebe3-4376-ba66-7112ea39cc1e');\n",
              "          const dataTable =\n",
              "            await google.colab.kernel.invokeFunction('convertToInteractive',\n",
              "                                                     [key], {});\n",
              "          if (!dataTable) return;\n",
              "\n",
              "          const docLinkHtml = 'Like what you see? Visit the ' +\n",
              "            '<a target=\"_blank\" href=https://colab.research.google.com/notebooks/data_table.ipynb>data table notebook</a>'\n",
              "            + ' to learn more about interactive tables.';\n",
              "          element.innerHTML = '';\n",
              "          dataTable['output_type'] = 'display_data';\n",
              "          await google.colab.output.renderOutput(dataTable, element);\n",
              "          const docLink = document.createElement('div');\n",
              "          docLink.innerHTML = docLinkHtml;\n",
              "          element.appendChild(docLink);\n",
              "        }\n",
              "      </script>\n",
              "    </div>\n",
              "  </div>\n",
              "  "
            ],
            "text/plain": [
              "   ID  A1_Score  A2_Score  A3_Score  A4_Score  A5_Score  A6_Score  A7_Score  \\\n",
              "0   1         1         0         1         0         1         0         1   \n",
              "1   2         0         0         0         0         0         0         0   \n",
              "2   3         1         1         1         1         1         1         1   \n",
              "3   4         0         0         0         0         0         0         0   \n",
              "4   5         0         0         0         0         0         0         0   \n",
              "\n",
              "   A8_Score  A9_Score  ...  gender       ethnicity jaundice austim  \\\n",
              "0         0         1  ...       f               ?       no     no   \n",
              "1         0         0  ...       m               ?       no     no   \n",
              "2         1         1  ...       m  White-European       no    yes   \n",
              "3         0         0  ...       f               ?       no     no   \n",
              "4         0         0  ...       m               ?       no     no   \n",
              "\n",
              "   contry_of_res used_app_before     result     age_desc  relation Class/ASD  \n",
              "0        Austria              no   6.351166  18 and more      Self         0  \n",
              "1          India              no   2.255185  18 and more      Self         0  \n",
              "2  United States              no  14.851484  18 and more      Self         1  \n",
              "3  United States              no   2.276617  18 and more      Self         0  \n",
              "4   South Africa              no  -4.777286  18 and more      Self         0  \n",
              "\n",
              "[5 rows x 22 columns]"
            ]
          },
          "execution_count": 6,
          "metadata": {},
          "output_type": "execute_result"
        }
      ],
      "source": [
        "training_dataset.head(5)"
      ]
    },
    {
      "cell_type": "code",
      "execution_count": 7,
      "metadata": {
        "colab": {
          "base_uri": "https://localhost:8080/"
        },
        "execution": {
          "iopub.execute_input": "2022-06-22T14:18:20.914271Z",
          "iopub.status.busy": "2022-06-22T14:18:20.913886Z",
          "iopub.status.idle": "2022-06-22T14:18:20.921197Z",
          "shell.execute_reply": "2022-06-22T14:18:20.920188Z",
          "shell.execute_reply.started": "2022-06-22T14:18:20.914238Z"
        },
        "id": "CGFRQcFuH53K",
        "outputId": "69e01d9a-ca1d-4708-925a-329d3e1778e6",
        "trusted": true
      },
      "outputs": [
        {
          "data": {
            "text/plain": [
              "array(['Self', 'Relative', 'Parent', '?', 'Others',\n",
              "       'Health care professional'], dtype=object)"
            ]
          },
          "execution_count": 7,
          "metadata": {},
          "output_type": "execute_result"
        }
      ],
      "source": [
        "training_dataset['relation'].unique()"
      ]
    },
    {
      "cell_type": "markdown",
      "metadata": {
        "id": "8mCH40zFH53L"
      },
      "source": [
        "## Feature Enginnering"
      ]
    },
    {
      "cell_type": "code",
      "execution_count": 8,
      "metadata": {
        "execution": {
          "iopub.execute_input": "2022-06-22T14:18:23.958042Z",
          "iopub.status.busy": "2022-06-22T14:18:23.957062Z",
          "iopub.status.idle": "2022-06-22T14:18:23.96565Z",
          "shell.execute_reply": "2022-06-22T14:18:23.964746Z",
          "shell.execute_reply.started": "2022-06-22T14:18:23.958003Z"
        },
        "id": "8Pmo6qKVH53M",
        "trusted": true
      },
      "outputs": [],
      "source": [
        "training_dataset['austim'] = training_dataset['austim'].map({'no':0,'yes':1})\n",
        "testing_dataset['austim'] = testing_dataset['austim'].map({'no':0,'yes':1})"
      ]
    },
    {
      "cell_type": "code",
      "execution_count": 9,
      "metadata": {
        "colab": {
          "base_uri": "https://localhost:8080/"
        },
        "execution": {
          "iopub.execute_input": "2022-06-22T14:18:26.002527Z",
          "iopub.status.busy": "2022-06-22T14:18:26.002098Z",
          "iopub.status.idle": "2022-06-22T14:18:26.008961Z",
          "shell.execute_reply": "2022-06-22T14:18:26.008093Z",
          "shell.execute_reply.started": "2022-06-22T14:18:26.002491Z"
        },
        "id": "W6liGSZVH53N",
        "outputId": "5ec1af63-dcb9-46e4-86d5-8924da21b81c",
        "trusted": true
      },
      "outputs": [
        {
          "data": {
            "text/plain": [
              "56"
            ]
          },
          "execution_count": 9,
          "metadata": {},
          "output_type": "execute_result"
        }
      ],
      "source": [
        "training_dataset['contry_of_res'].nunique()"
      ]
    },
    {
      "cell_type": "code",
      "execution_count": 10,
      "metadata": {
        "colab": {
          "base_uri": "https://localhost:8080/",
          "height": 716
        },
        "execution": {
          "iopub.execute_input": "2022-06-22T14:18:28.722157Z",
          "iopub.status.busy": "2022-06-22T14:18:28.721745Z",
          "iopub.status.idle": "2022-06-22T14:18:29.572806Z",
          "shell.execute_reply": "2022-06-22T14:18:29.571796Z",
          "shell.execute_reply.started": "2022-06-22T14:18:28.722122Z"
        },
        "id": "e0D48N7HH53O",
        "outputId": "9b21102b-ca90-4337-a1f9-240ab878f0ff",
        "trusted": true
      },
      "outputs": [
        {
          "data": {
            "image/png": "[encoded data removed]",
            "text/plain": [
              "<Figure size 1440x1440 with 1 Axes>"
            ]
          },
          "metadata": {
            "needs_background": "light"
          },
          "output_type": "display_data"
        }
      ],
      "source": [
        "plt.figure(figsize=(20,20))\n",
        "training_dataset['contry_of_res'].hist(linewidth=0.5,bins=56)\n",
        "plt.xticks(range(0,57),rotation=90)\n",
        "plt.show()"
      ]
    },
    {
      "cell_type": "markdown",
      "metadata": {
        "id": "ZrHjgPTpH53P"
      },
      "source": [
        "#### Find Autism relation to gender in Iraq"
      ]
    },
    {
      "cell_type": "code",
      "execution_count": 11,
      "metadata": {
        "colab": {
          "base_uri": "https://localhost:8080/",
          "height": 279
        },
        "execution": {
          "iopub.execute_input": "2022-06-22T14:18:42.091765Z",
          "iopub.status.busy": "2022-06-22T14:18:42.091009Z",
          "iopub.status.idle": "2022-06-22T14:18:42.282946Z",
          "shell.execute_reply": "2022-06-22T14:18:42.282057Z",
          "shell.execute_reply.started": "2022-06-22T14:18:42.091719Z"
        },
        "id": "n0Oxj77eH53P",
        "outputId": "8a9c8fd7-71b6-4cc6-9d6f-15b455663ff4",
        "trusted": true
      },
      "outputs": [
        {
          "data": {
            "image/png": "[encoded data removed]",
            "text/plain": [
              "<Figure size 432x288 with 1 Axes>"
            ]
          },
          "metadata": {
            "needs_background": "light"
          },
          "output_type": "display_data"
        }
      ],
      "source": [
        "counts = training_dataset[training_dataset['contry_of_res'] == 'Iraq'].groupby(['gender', 'austim']).result.count().unstack()\n",
        "counts.plot(kind='bar',stacked=True)\n",
        "plt.xlabel('Gender')\n",
        "plt.show()"
      ]
    },
    {
      "cell_type": "markdown",
      "metadata": {
        "id": "9gy6Pck8H53Q"
      },
      "source": [
        "#### get precentage of austim in Iraq"
      ]
    },
    {
      "cell_type": "code",
      "execution_count": 23,
      "metadata": {
        "colab": {
          "base_uri": "https://localhost:8080/"
        },
        "execution": {
          "iopub.execute_input": "2022-06-22T14:18:49.87209Z",
          "iopub.status.busy": "2022-06-22T14:18:49.871059Z",
          "iopub.status.idle": "2022-06-22T14:18:49.880384Z",
          "shell.execute_reply": "2022-06-22T14:18:49.879263Z",
          "shell.execute_reply.started": "2022-06-22T14:18:49.872047Z"
        },
        "id": "QjyHXLeNH53Q",
        "outputId": "0f655223-a52a-4e1a-d493-329429c9f7c7",
        "trusted": true
      },
      "outputs": [
        {
          "data": {
            "text/plain": [
              "32.0"
            ]
          },
          "execution_count": 23,
          "metadata": {},
          "output_type": "execute_result"
        }
      ],
      "source": [
        "np.floor(training_dataset[training_dataset['contry_of_res'] == 'Iraq']['ID'].sum() / training_dataset['ID'].sum() * 100 * 100)"
      ]
    },
    {
      "cell_type": "markdown",
      "metadata": {
        "id": "0bFrezM2JBAO"
      },
      "source": [
        "#### show the precentage of male , female they have autsim"
      ]
    },
    {
      "cell_type": "code",
      "execution_count": 13,
      "metadata": {
        "colab": {
          "base_uri": "https://localhost:8080/",
          "height": 281
        },
        "execution": {
          "iopub.execute_input": "2022-06-22T14:18:58.777943Z",
          "iopub.status.busy": "2022-06-22T14:18:58.777546Z",
          "iopub.status.idle": "2022-06-22T14:18:59.3541Z",
          "shell.execute_reply": "2022-06-22T14:18:59.352634Z",
          "shell.execute_reply.started": "2022-06-22T14:18:58.777911Z"
        },
        "id": "SFsHrIYCH53S",
        "outputId": "a36cf0af-c51e-4cb5-aec2-6d4f6aae209e",
        "trusted": true
      },
      "outputs": [
        {
          "data": {
            "text/plain": [
              "<matplotlib.legend.Legend at 0x7fe120bd3150>"
            ]
          },
          "execution_count": 13,
          "metadata": {},
          "output_type": "execute_result"
        },
        {
          "data": {
            "image/png": "[encoded data removed]",
            "text/plain": [
              "<Figure size 432x288 with 1 Axes>"
            ]
          },
          "metadata": {},
          "output_type": "display_data"
        }
      ],
      "source": [
        "training_dataset['gender'].value_counts().plot(kind='pie',autopct='%0.2f%%',ylabel='',title='Autism')\n",
        "plt.legend(['Male','Female'])"
      ]
    },
    {
      "cell_type": "code",
      "execution_count": 14,
      "metadata": {
        "colab": {
          "base_uri": "https://localhost:8080/"
        },
        "execution": {
          "iopub.execute_input": "2022-06-22T14:19:02.204676Z",
          "iopub.status.busy": "2022-06-22T14:19:02.204284Z",
          "iopub.status.idle": "2022-06-22T14:19:02.21124Z",
          "shell.execute_reply": "2022-06-22T14:19:02.210291Z",
          "shell.execute_reply.started": "2022-06-22T14:19:02.204644Z"
        },
        "id": "nfi_36lFH53S",
        "outputId": "58115126-e2c1-4270-96f3-7ace7e5b9056",
        "trusted": true
      },
      "outputs": [
        {
          "data": {
            "text/plain": [
              "Index(['ID', 'A1_Score', 'A2_Score', 'A3_Score', 'A4_Score', 'A5_Score',\n",
              "       'A6_Score', 'A7_Score', 'A8_Score', 'A9_Score', 'A10_Score', 'age',\n",
              "       'gender', 'ethnicity', 'jaundice', 'austim', 'contry_of_res',\n",
              "       'used_app_before', 'result', 'age_desc', 'relation', 'Class/ASD'],\n",
              "      dtype='object')"
            ]
          },
          "execution_count": 14,
          "metadata": {},
          "output_type": "execute_result"
        }
      ],
      "source": [
        "training_dataset.columns"
      ]
    },
    {
      "cell_type": "markdown",
      "metadata": {
        "id": "j1pbw34aH53T"
      },
      "source": [
        "#### check missing values"
      ]
    },
    {
      "cell_type": "code",
      "execution_count": 15,
      "metadata": {
        "colab": {
          "base_uri": "https://localhost:8080/"
        },
        "execution": {
          "iopub.execute_input": "2022-06-22T14:19:05.97182Z",
          "iopub.status.busy": "2022-06-22T14:19:05.971107Z",
          "iopub.status.idle": "2022-06-22T14:19:05.983626Z",
          "shell.execute_reply": "2022-06-22T14:19:05.982315Z",
          "shell.execute_reply.started": "2022-06-22T14:19:05.971771Z"
        },
        "id": "aXJrMb-SH53T",
        "outputId": "e346cd77-7d0c-4ba7-c79f-9352c4906dfd",
        "trusted": true
      },
      "outputs": [
        {
          "data": {
            "text/plain": [
              "ID                 0.0\n",
              "A1_Score           0.0\n",
              "A2_Score           0.0\n",
              "A3_Score           0.0\n",
              "A4_Score           0.0\n",
              "A5_Score           0.0\n",
              "A6_Score           0.0\n",
              "A7_Score           0.0\n",
              "A8_Score           0.0\n",
              "A9_Score           0.0\n",
              "A10_Score          0.0\n",
              "age                0.0\n",
              "gender             0.0\n",
              "ethnicity          0.0\n",
              "jaundice           0.0\n",
              "austim             0.0\n",
              "contry_of_res      0.0\n",
              "used_app_before    0.0\n",
              "result             0.0\n",
              "age_desc           0.0\n",
              "relation           0.0\n",
              "Class/ASD          0.0\n",
              "dtype: float64"
            ]
          },
          "execution_count": 15,
          "metadata": {},
          "output_type": "execute_result"
        }
      ],
      "source": [
        "training_dataset.isnull().mean() * 100"
      ]
    },
    {
      "cell_type": "code",
      "execution_count": 16,
      "metadata": {
        "colab": {
          "base_uri": "https://localhost:8080/"
        },
        "execution": {
          "iopub.execute_input": "2022-06-22T14:19:09.213919Z",
          "iopub.status.busy": "2022-06-22T14:19:09.213197Z",
          "iopub.status.idle": "2022-06-22T14:19:09.224992Z",
          "shell.execute_reply": "2022-06-22T14:19:09.224065Z",
          "shell.execute_reply.started": "2022-06-22T14:19:09.213872Z"
        },
        "id": "1Lnnp8YBH53T",
        "outputId": "6934a6fa-25c8-4fd0-95a0-0a6d097bf594",
        "trusted": true
      },
      "outputs": [
        {
          "data": {
            "text/plain": [
              "ID                 0.0\n",
              "A1_Score           0.0\n",
              "A2_Score           0.0\n",
              "A3_Score           0.0\n",
              "A4_Score           0.0\n",
              "A5_Score           0.0\n",
              "A6_Score           0.0\n",
              "A7_Score           0.0\n",
              "A8_Score           0.0\n",
              "A9_Score           0.0\n",
              "A10_Score          0.0\n",
              "age                0.0\n",
              "gender             0.0\n",
              "ethnicity          0.0\n",
              "jaundice           0.0\n",
              "austim             0.0\n",
              "contry_of_res      0.0\n",
              "used_app_before    0.0\n",
              "result             0.0\n",
              "age_desc           0.0\n",
              "relation           0.0\n",
              "dtype: float64"
            ]
          },
          "execution_count": 16,
          "metadata": {},
          "output_type": "execute_result"
        }
      ],
      "source": [
        "testing_dataset.isnull().mean() * 100"
      ]
    },
    {
      "cell_type": "markdown",
      "metadata": {
        "id": "seGeADv7H53Y"
      },
      "source": [
        "## Label Encoding"
      ]
    },
    {
      "cell_type": "markdown",
      "metadata": {
        "id": "b1Bgk4_FH53Y"
      },
      "source": [
        "#### deleting unnecessary columns country,age"
      ]
    },
    {
      "cell_type": "code",
      "execution_count": 24,
      "metadata": {
        "execution": {
          "iopub.execute_input": "2022-06-22T14:19:12.674459Z",
          "iopub.status.busy": "2022-06-22T14:19:12.674009Z",
          "iopub.status.idle": "2022-06-22T14:19:12.682149Z",
          "shell.execute_reply": "2022-06-22T14:19:12.681079Z",
          "shell.execute_reply.started": "2022-06-22T14:19:12.674419Z"
        },
        "id": "BHSbi_FgH53Z",
        "trusted": true
      },
      "outputs": [],
      "source": [
        "del training_dataset['contry_of_res'],training_dataset['age_desc'],training_dataset['ID']\n",
        "del testing_dataset['contry_of_res'],testing_dataset['age_desc'],testing_dataset['ID']"
      ]
    },
    {
      "cell_type": "code",
      "execution_count": 25,
      "metadata": {
        "colab": {
          "base_uri": "https://localhost:8080/",
          "height": 424
        },
        "execution": {
          "iopub.execute_input": "2022-06-22T14:19:15.371022Z",
          "iopub.status.busy": "2022-06-22T14:19:15.370042Z",
          "iopub.status.idle": "2022-06-22T14:19:15.388229Z",
          "shell.execute_reply": "2022-06-22T14:19:15.387288Z",
          "shell.execute_reply.started": "2022-06-22T14:19:15.370974Z"
        },
        "id": "w2JIFdf_H53Z",
        "outputId": "8b5ed46f-b044-4228-bcf9-f8799b67d379",
        "trusted": true
      },
      "outputs": [
        {
          "data": {
            "text/html": [
              "\n",
              "  <div id=\"df-0d155441-747c-4182-b50c-0799c1a62389\">\n",
              "    <div class=\"colab-df-container\">\n",
              "      <div>\n",
              "<style scoped>\n",
              "    .dataframe tbody tr th:only-of-type {\n",
              "        vertical-align: middle;\n",
              "    }\n",
              "\n",
              "    .dataframe tbody tr th {\n",
              "        vertical-align: top;\n",
              "    }\n",
              "\n",
              "    .dataframe thead th {\n",
              "        text-align: right;\n",
              "    }\n",
              "</style>\n",
              "<table border=\"1\" class=\"dataframe\">\n",
              "  <thead>\n",
              "    <tr style=\"text-align: right;\">\n",
              "      <th></th>\n",
              "      <th>gender</th>\n",
              "      <th>ethnicity</th>\n",
              "      <th>jaundice</th>\n",
              "      <th>used_app_before</th>\n",
              "      <th>relation</th>\n",
              "    </tr>\n",
              "  </thead>\n",
              "  <tbody>\n",
              "    <tr>\n",
              "      <th>0</th>\n",
              "      <td>f</td>\n",
              "      <td>?</td>\n",
              "      <td>no</td>\n",
              "      <td>no</td>\n",
              "      <td>Self</td>\n",
              "    </tr>\n",
              "    <tr>\n",
              "      <th>1</th>\n",
              "      <td>m</td>\n",
              "      <td>?</td>\n",
              "      <td>no</td>\n",
              "      <td>no</td>\n",
              "      <td>Self</td>\n",
              "    </tr>\n",
              "    <tr>\n",
              "      <th>2</th>\n",
              "      <td>m</td>\n",
              "      <td>White-European</td>\n",
              "      <td>no</td>\n",
              "      <td>no</td>\n",
              "      <td>Self</td>\n",
              "    </tr>\n",
              "    <tr>\n",
              "      <th>3</th>\n",
              "      <td>f</td>\n",
              "      <td>?</td>\n",
              "      <td>no</td>\n",
              "      <td>no</td>\n",
              "      <td>Self</td>\n",
              "    </tr>\n",
              "    <tr>\n",
              "      <th>4</th>\n",
              "      <td>m</td>\n",
              "      <td>?</td>\n",
              "      <td>no</td>\n",
              "      <td>no</td>\n",
              "      <td>Self</td>\n",
              "    </tr>\n",
              "    <tr>\n",
              "      <th>...</th>\n",
              "      <td>...</td>\n",
              "      <td>...</td>\n",
              "      <td>...</td>\n",
              "      <td>...</td>\n",
              "      <td>...</td>\n",
              "    </tr>\n",
              "    <tr>\n",
              "      <th>795</th>\n",
              "      <td>m</td>\n",
              "      <td>Hispanic</td>\n",
              "      <td>no</td>\n",
              "      <td>no</td>\n",
              "      <td>Self</td>\n",
              "    </tr>\n",
              "    <tr>\n",
              "      <th>796</th>\n",
              "      <td>m</td>\n",
              "      <td>White-European</td>\n",
              "      <td>no</td>\n",
              "      <td>no</td>\n",
              "      <td>Self</td>\n",
              "    </tr>\n",
              "    <tr>\n",
              "      <th>797</th>\n",
              "      <td>m</td>\n",
              "      <td>South Asian</td>\n",
              "      <td>yes</td>\n",
              "      <td>no</td>\n",
              "      <td>Self</td>\n",
              "    </tr>\n",
              "    <tr>\n",
              "      <th>798</th>\n",
              "      <td>f</td>\n",
              "      <td>?</td>\n",
              "      <td>no</td>\n",
              "      <td>no</td>\n",
              "      <td>Self</td>\n",
              "    </tr>\n",
              "    <tr>\n",
              "      <th>799</th>\n",
              "      <td>f</td>\n",
              "      <td>?</td>\n",
              "      <td>no</td>\n",
              "      <td>yes</td>\n",
              "      <td>Self</td>\n",
              "    </tr>\n",
              "  </tbody>\n",
              "</table>\n",
              "<p>800 rows × 5 columns</p>\n",
              "</div>\n",
              "      <button class=\"colab-df-convert\" onclick=\"convertToInteractive('df-0d155441-747c-4182-b50c-0799c1a62389')\"\n",
              "              title=\"Convert this dataframe to an interactive table.\"\n",
              "              style=\"display:none;\">\n",
              "        \n",
              "  <svg xmlns=\"http://www.w3.org/2000/svg\" height=\"24px\"viewBox=\"0 0 24 24\"\n",
              "       width=\"24px\">\n",
              "    <path d=\"M0 0h24v24H0V0z\" fill=\"none\"/>\n",
              "    <path d=\"M18.56 5.44l.94 2.06.94-2.06 2.06-.94-2.06-.94-.94-2.06-.94 2.06-2.06.94zm-11 1L8.5 8.5l.94-2.06 2.06-.94-2.06-.94L8.5 2.5l-.94 2.06-2.06.94zm10 10l.94 2.06.94-2.06 2.06-.94-2.06-.94-.94-2.06-.94 2.06-2.06.94z\"/><path d=\"M17.41 7.96l-1.37-1.37c-.4-.4-.92-.59-1.43-.59-.52 0-1.04.2-1.43.59L10.3 9.45l-7.72 7.72c-.78.78-.78 2.05 0 2.83L4 21.41c.39.39.9.59 1.41.59.51 0 1.02-.2 1.41-.59l7.78-7.78 2.81-2.81c.8-.78.8-2.07 0-2.86zM5.41 20L4 18.59l7.72-7.72 1.47 1.35L5.41 20z\"/>\n",
              "  </svg>\n",
              "      </button>\n",
              "      \n",
              "  <style>\n",
              "    .colab-df-container {\n",
              "      display:flex;\n",
              "      flex-wrap:wrap;\n",
              "      gap: 12px;\n",
              "    }\n",
              "\n",
              "    .colab-df-convert {\n",
              "      background-color: #E8F0FE;\n",
              "      border: none;\n",
              "      border-radius: 50%;\n",
              "      cursor: pointer;\n",
              "      display: none;\n",
              "      fill: #1967D2;\n",
              "      height: 32px;\n",
              "      padding: 0 0 0 0;\n",
              "      width: 32px;\n",
              "    }\n",
              "\n",
              "    .colab-df-convert:hover {\n",
              "      background-color: #E2EBFA;\n",
              "      box-shadow: 0px 1px 2px rgba(60, 64, 67, 0.3), 0px 1px 3px 1px rgba(60, 64, 67, 0.15);\n",
              "      fill: #174EA6;\n",
              "    }\n",
              "\n",
              "    [theme=dark] .colab-df-convert {\n",
              "      background-color: #3B4455;\n",
              "      fill: #D2E3FC;\n",
              "    }\n",
              "\n",
              "    [theme=dark] .colab-df-convert:hover {\n",
              "      background-color: #434B5C;\n",
              "      box-shadow: 0px 1px 3px 1px rgba(0, 0, 0, 0.15);\n",
              "      filter: drop-shadow(0px 1px 2px rgba(0, 0, 0, 0.3));\n",
              "      fill: #FFFFFF;\n",
              "    }\n",
              "  </style>\n",
              "\n",
              "      <script>\n",
              "        const buttonEl =\n",
              "          document.querySelector('#df-0d155441-747c-4182-b50c-0799c1a62389 button.colab-df-convert');\n",
              "        buttonEl.style.display =\n",
              "          google.colab.kernel.accessAllowed ? 'block' : 'none';\n",
              "\n",
              "        async function convertToInteractive(key) {\n",
              "          const element = document.querySelector('#df-0d155441-747c-4182-b50c-0799c1a62389');\n",
              "          const dataTable =\n",
              "            await google.colab.kernel.invokeFunction('convertToInteractive',\n",
              "                                                     [key], {});\n",
              "          if (!dataTable) return;\n",
              "\n",
              "          const docLinkHtml = 'Like what you see? Visit the ' +\n",
              "            '<a target=\"_blank\" href=https://colab.research.google.com/notebooks/data_table.ipynb>data table notebook</a>'\n",
              "            + ' to learn more about interactive tables.';\n",
              "          element.innerHTML = '';\n",
              "          dataTable['output_type'] = 'display_data';\n",
              "          await google.colab.output.renderOutput(dataTable, element);\n",
              "          const docLink = document.createElement('div');\n",
              "          docLink.innerHTML = docLinkHtml;\n",
              "          element.appendChild(docLink);\n",
              "        }\n",
              "      </script>\n",
              "    </div>\n",
              "  </div>\n",
              "  "
            ],
            "text/plain": [
              "    gender       ethnicity jaundice used_app_before relation\n",
              "0        f               ?       no              no     Self\n",
              "1        m               ?       no              no     Self\n",
              "2        m  White-European       no              no     Self\n",
              "3        f               ?       no              no     Self\n",
              "4        m               ?       no              no     Self\n",
              "..     ...             ...      ...             ...      ...\n",
              "795      m        Hispanic       no              no     Self\n",
              "796      m  White-European       no              no     Self\n",
              "797      m     South Asian      yes              no     Self\n",
              "798      f               ?       no              no     Self\n",
              "799      f               ?       no             yes     Self\n",
              "\n",
              "[800 rows x 5 columns]"
            ]
          },
          "execution_count": 25,
          "metadata": {},
          "output_type": "execute_result"
        }
      ],
      "source": [
        "training_dataset.select_dtypes(include='object')"
      ]
    },
    {
      "cell_type": "code",
      "execution_count": 26,
      "metadata": {
        "execution": {
          "iopub.execute_input": "2022-06-22T14:19:17.988729Z",
          "iopub.status.busy": "2022-06-22T14:19:17.987881Z",
          "iopub.status.idle": "2022-06-22T14:19:18.009104Z",
          "shell.execute_reply": "2022-06-22T14:19:18.008146Z",
          "shell.execute_reply.started": "2022-06-22T14:19:17.988691Z"
        },
        "id": "JO7BfiO6H53a",
        "trusted": true
      },
      "outputs": [],
      "source": [
        "ethnicity = {\n",
        "    '?':0,\n",
        "    'White-European':1, \n",
        "    'Middle Eastern ':2, \n",
        "    'Pasifika':3, \n",
        "    'Black':4,\n",
        "    'Others':5, \n",
        "    'Hispanic':6, \n",
        "    'Asian':7, \n",
        "    'Turkish':8, \n",
        "    'South Asian':9, \n",
        "    'Latino':10,\n",
        "    'others':11\n",
        "}\n",
        "\n",
        "relation = {\n",
        "    'Self' : 0, \n",
        "    'Relative' : 1, \n",
        "    'Parent' : 2, \n",
        "    '?' : 3, \n",
        "    'Others' : 4,\n",
        "    'Health care professional' : 5\n",
        "}\n",
        "\n",
        "# for training dataset\n",
        "training_dataset['gender'] = training_dataset['gender'].map({'f':0,'m':1})\n",
        "training_dataset['ethnicity'] = training_dataset['ethnicity'].map(ethnicity)\n",
        "training_dataset['jaundice'] = training_dataset['jaundice'].map({'no':0,'yes':1})\n",
        "training_dataset['used_app_before'] = training_dataset['used_app_before'].map({'no':0,'yes':1})\n",
        "training_dataset['relation'] = training_dataset['relation'].map(relation)\n",
        "\n",
        "# for testing dataset\n",
        "testing_dataset['gender'] = testing_dataset['gender'].map({'f':0,'m':1})\n",
        "testing_dataset['ethnicity'] = testing_dataset['ethnicity'].map(ethnicity)\n",
        "testing_dataset['jaundice'] = testing_dataset['jaundice'].map({'no':0,'yes':1})\n",
        "testing_dataset['used_app_before'] = testing_dataset['used_app_before'].map({'no':0,'yes':1})\n",
        "testing_dataset['relation'] = testing_dataset['relation'].map(relation)\n",
        "\n",
        "# take only the age in this case 18\n",
        "# training_dataset['age_desc'] = training_dataset['age_desc'].apply(lambda x: x.split(' ')[0])\n",
        "# training_dataset['age_desc'] = training_dataset['age_desc'].astype(np.int)"
      ]
    },
    {
      "cell_type": "markdown",
      "metadata": {
        "id": "KBeb9QeHH53c"
      },
      "source": [
        "### Split the data for features , labels"
      ]
    },
    {
      "cell_type": "code",
      "execution_count": 27,
      "metadata": {
        "execution": {
          "iopub.execute_input": "2022-06-22T14:19:20.766012Z",
          "iopub.status.busy": "2022-06-22T14:19:20.765559Z",
          "iopub.status.idle": "2022-06-22T14:19:20.773736Z",
          "shell.execute_reply": "2022-06-22T14:19:20.772938Z",
          "shell.execute_reply.started": "2022-06-22T14:19:20.765976Z"
        },
        "id": "rdGUv0G3H53c",
        "trusted": true
      },
      "outputs": [],
      "source": [
        "X = training_dataset.loc[:,~training_dataset.columns.isin(['Class/ASD'])]\n",
        "y = training_dataset['Class/ASD']"
      ]
    },
    {
      "cell_type": "code",
      "execution_count": 28,
      "metadata": {
        "execution": {
          "iopub.execute_input": "2022-06-22T14:40:16.451183Z",
          "iopub.status.busy": "2022-06-22T14:40:16.450724Z",
          "iopub.status.idle": "2022-06-22T14:40:16.456166Z",
          "shell.execute_reply": "2022-06-22T14:40:16.455264Z",
          "shell.execute_reply.started": "2022-06-22T14:40:16.451147Z"
        },
        "id": "xNWgjpzdH53e",
        "trusted": true
      },
      "outputs": [],
      "source": [
        "X_batch = X\n",
        "y_batch = y"
      ]
    },
    {
      "cell_type": "code",
      "execution_count": 30,
      "metadata": {
        "colab": {
          "base_uri": "https://localhost:8080/"
        },
        "execution": {
          "iopub.execute_input": "2022-06-22T14:47:48.673027Z",
          "iopub.status.busy": "2022-06-22T14:47:48.67249Z",
          "iopub.status.idle": "2022-06-22T14:47:48.734334Z",
          "shell.execute_reply": "2022-06-22T14:47:48.733166Z",
          "shell.execute_reply.started": "2022-06-22T14:47:48.672994Z"
        },
        "id": "r4diKB1VH53e",
        "outputId": "77700f8b-1463-4112-cc78-45521b7b7d32",
        "trusted": true
      },
      "outputs": [
        {
          "name": "stderr",
          "output_type": "stream",
          "text": [
            "/usr/local/lib/python3.7/dist-packages/sklearn/linear_model/_logistic.py:818: ConvergenceWarning: lbfgs failed to converge (status=1):\n",
            "STOP: TOTAL NO. of ITERATIONS REACHED LIMIT.\n",
            "\n",
            "Increase the number of iterations (max_iter) or scale the data as shown in:\n",
            "    https://scikit-learn.org/stable/modules/preprocessing.html\n",
            "Please also refer to the documentation for alternative solver options:\n",
            "    https://scikit-learn.org/stable/modules/linear_model.html#logistic-regression\n",
            "  extra_warning_msg=_LOGISTIC_SOLVER_CONVERGENCE_MSG,\n"
          ]
        },
        {
          "data": {
            "text/plain": [
              "LogisticRegression(random_state=0)"
            ]
          },
          "execution_count": 30,
          "metadata": {},
          "output_type": "execute_result"
        }
      ],
      "source": [
        "model = LogisticRegression(random_state=0,penalty='l2')\n",
        "model.fit(X_batch,y_batch)"
      ]
    },
    {
      "cell_type": "code",
      "execution_count": 31,
      "metadata": {
        "execution": {
          "iopub.execute_input": "2022-06-22T14:47:54.585124Z",
          "iopub.status.busy": "2022-06-22T14:47:54.584745Z",
          "iopub.status.idle": "2022-06-22T14:47:54.591801Z",
          "shell.execute_reply": "2022-06-22T14:47:54.591041Z",
          "shell.execute_reply.started": "2022-06-22T14:47:54.585094Z"
        },
        "id": "GK209pwzH53f",
        "trusted": true
      },
      "outputs": [],
      "source": [
        "prediction = model.predict(testing_dataset)"
      ]
    },
    {
      "cell_type": "markdown",
      "metadata": {
        "id": "ydNoszCgJ36Z"
      },
      "source": [
        "#### Get the score of the model"
      ]
    },
    {
      "cell_type": "code",
      "execution_count": 32,
      "metadata": {
        "colab": {
          "base_uri": "https://localhost:8080/"
        },
        "execution": {
          "iopub.execute_input": "2022-06-22T14:47:58.658525Z",
          "iopub.status.busy": "2022-06-22T14:47:58.657999Z",
          "iopub.status.idle": "2022-06-22T14:47:58.666818Z",
          "shell.execute_reply": "2022-06-22T14:47:58.666055Z",
          "shell.execute_reply.started": "2022-06-22T14:47:58.658486Z"
        },
        "id": "Y7cUCJ6WH53f",
        "outputId": "684f0df0-310d-47b7-d177-c34574b0300d",
        "trusted": true
      },
      "outputs": [
        {
          "data": {
            "text/plain": [
              "1.0"
            ]
          },
          "execution_count": 32,
          "metadata": {},
          "output_type": "execute_result"
        }
      ],
      "source": [
        "accuracy = model.score(testing_dataset,prediction)\n",
        "accuracy"
      ]
    }
  ],
  "metadata": {
    "colab": {
      "name": "autism-disease-prediction.ipynb",
      "provenance": []
    },
    "kernelspec": {
      "display_name": "Python 3",
      "language": "python",
      "name": "python3"
    },
    "language_info": {
      "codemirror_mode": {
        "name": "ipython",
        "version": 3
      },
      "file_extension": ".py",
      "mimetype": "text/x-python",
      "name": "python",
      "nbconvert_exporter": "python",
      "pygments_lexer": "ipython3",
      "version": "3.6.4"
    }
  },
  "nbformat": 4,
  "nbformat_minor": 0
}
